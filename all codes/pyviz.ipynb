{
 "cells": [
  {
   "cell_type": "markdown",
   "id": "52874bb0",
   "metadata": {},
   "source": [
    "This following code generates the visualisation of network graph in html file and can be seen in browser. i used this library because it offers intaractivity"
   ]
  },
  {
   "cell_type": "code",
   "execution_count": 5,
   "id": "6fe708b9",
   "metadata": {},
   "outputs": [],
   "source": [
    "#pip install pyvis"
   ]
  },
  {
   "cell_type": "code",
   "execution_count": 42,
   "id": "fc3c7478",
   "metadata": {},
   "outputs": [],
   "source": [
    "from pyvis.network import Network\n",
    "import pandas as pd"
   ]
  },
  {
   "cell_type": "code",
   "execution_count": 43,
   "id": "a412081e",
   "metadata": {},
   "outputs": [],
   "source": [
    "df = pd.read_excel(\"#باجوہ_استعفی_دو.xlsx\")"
   ]
  },
  {
   "cell_type": "code",
   "execution_count": 84,
   "id": "271e32d6",
   "metadata": {},
   "outputs": [
    {
     "data": {
      "text/plain": [
       "92"
      ]
     },
     "execution_count": 84,
     "metadata": {},
     "output_type": "execute_result"
    }
   ],
   "source": [
    "a = []\n",
    "a = list(df[\"From\"].unique())\n",
    "len(a)\n"
   ]
  },
  {
   "cell_type": "code",
   "execution_count": 88,
   "id": "8e2a4955",
   "metadata": {},
   "outputs": [],
   "source": [
    "b = list(df[\"To\"].unique())"
   ]
  },
  {
   "cell_type": "code",
   "execution_count": null,
   "id": "f39326ec",
   "metadata": {},
   "outputs": [],
   "source": []
  },
  {
   "cell_type": "code",
   "execution_count": null,
   "id": "93279040",
   "metadata": {},
   "outputs": [],
   "source": [
    "directed = \"True\","
   ]
  },
  {
   "cell_type": "code",
   "execution_count": null,
   "id": "8eb9d095",
   "metadata": {},
   "outputs": [],
   "source": []
  },
  {
   "cell_type": "code",
   "execution_count": 144,
   "id": "ab564b69",
   "metadata": {},
   "outputs": [],
   "source": [
    "G = Network( width = \"1500px\" , height = \"900px\" , bgcolor='Black')"
   ]
  },
  {
   "cell_type": "code",
   "execution_count": 145,
   "id": "588cebe2",
   "metadata": {},
   "outputs": [
    {
     "data": {
      "text/plain": [
       "['bhatti2007']"
      ]
     },
     "execution_count": 145,
     "metadata": {},
     "output_type": "execute_result"
    }
   ],
   "source": [
    "\n",
    "#for i in a:\n",
    " #   nt.add_node(i)\n",
    "#nt.add_node(1, label=\"N\", color = \"blue\")\n",
    "#nt.add_node(2)\n",
    "#nt.add_edge(1,2)\n",
    "\n",
    "for o in b:\n",
    "    G.add_node(o , font='10px arial white')\n",
    "\n",
    "for tweeter in a:\n",
    "    df2 = df[df[\"From\"] == tweeter ]\n",
    "    retweeter = []\n",
    "    for i in df2[\"To\"]:\n",
    "        retweeter.append(i)\n",
    "        \n",
    "\n",
    "    G.add_node(tweeter, color = \"pink\" , font='20px arial white')\n",
    "# Add edges\n",
    "#fig = plt.figure( figsize=(200, 80), dpi=60)\n",
    "#nx.draw(G, with_labels=True, font_weight='normal')\n",
    "    for j in retweeter:\n",
    "        G.add_edge(tweeter, j )#, font='20px arial black')\n",
    "#print(type(tweeter))\n",
    "retweeter"
   ]
  },
  {
   "cell_type": "code",
   "execution_count": 146,
   "id": "7eee46fe",
   "metadata": {},
   "outputs": [],
   "source": [
    "G.repulsion(node_distance=290, spring_length=200 )"
   ]
  },
  {
   "cell_type": "code",
   "execution_count": null,
   "id": "8652e2cd",
   "metadata": {},
   "outputs": [],
   "source": []
  },
  {
   "cell_type": "code",
   "execution_count": 147,
   "id": "54d8f70c",
   "metadata": {},
   "outputs": [],
   "source": [
    "G.show('nodes.html')"
   ]
  },
  {
   "cell_type": "code",
   "execution_count": 87,
   "id": "e62e9441",
   "metadata": {},
   "outputs": [
    {
     "data": {
      "text/html": [
       "<div>\n",
       "<style scoped>\n",
       "    .dataframe tbody tr th:only-of-type {\n",
       "        vertical-align: middle;\n",
       "    }\n",
       "\n",
       "    .dataframe tbody tr th {\n",
       "        vertical-align: top;\n",
       "    }\n",
       "\n",
       "    .dataframe thead th {\n",
       "        text-align: right;\n",
       "    }\n",
       "</style>\n",
       "<table border=\"1\" class=\"dataframe\">\n",
       "  <thead>\n",
       "    <tr style=\"text-align: right;\">\n",
       "      <th></th>\n",
       "      <th>S NO</th>\n",
       "      <th>From</th>\n",
       "      <th>To</th>\n",
       "      <th>Tweet Type</th>\n",
       "      <th>Tweet Links</th>\n",
       "    </tr>\n",
       "  </thead>\n",
       "  <tbody>\n",
       "    <tr>\n",
       "      <th>0</th>\n",
       "      <td>1</td>\n",
       "      <td>WQSKHCH</td>\n",
       "      <td>AnsarAAbbasi</td>\n",
       "      <td>mention</td>\n",
       "      <td>https://twitter.com/WQSKHCH/status/15712628688...</td>\n",
       "    </tr>\n",
       "    <tr>\n",
       "      <th>1</th>\n",
       "      <td>2</td>\n",
       "      <td>WQSKHCH</td>\n",
       "      <td>OfficialDGISPR</td>\n",
       "      <td>mention</td>\n",
       "      <td>https://twitter.com/WQSKHCH/status/15712628688...</td>\n",
       "    </tr>\n",
       "    <tr>\n",
       "      <th>2</th>\n",
       "      <td>3</td>\n",
       "      <td>WQSKHCH</td>\n",
       "      <td>FIA_Agency</td>\n",
       "      <td>mention</td>\n",
       "      <td>https://twitter.com/WQSKHCH/status/15712628688...</td>\n",
       "    </tr>\n",
       "    <tr>\n",
       "      <th>3</th>\n",
       "      <td>4</td>\n",
       "      <td>WQSKHCH</td>\n",
       "      <td>reportpemra</td>\n",
       "      <td>mention</td>\n",
       "      <td>https://twitter.com/WQSKHCH/status/15712628688...</td>\n",
       "    </tr>\n",
       "    <tr>\n",
       "      <th>4</th>\n",
       "      <td>5</td>\n",
       "      <td>WQSKHCH</td>\n",
       "      <td>arsched</td>\n",
       "      <td>mention</td>\n",
       "      <td>https://twitter.com/WQSKHCH/status/15712637377...</td>\n",
       "    </tr>\n",
       "    <tr>\n",
       "      <th>...</th>\n",
       "      <td>...</td>\n",
       "      <td>...</td>\n",
       "      <td>...</td>\n",
       "      <td>...</td>\n",
       "      <td>...</td>\n",
       "    </tr>\n",
       "    <tr>\n",
       "      <th>1458</th>\n",
       "      <td>1459</td>\n",
       "      <td>FahdKha90782292</td>\n",
       "      <td>PTIKPOfficial</td>\n",
       "      <td>mention</td>\n",
       "      <td>https://twitter.com/FahdKha90782292/status/156...</td>\n",
       "    </tr>\n",
       "    <tr>\n",
       "      <th>1459</th>\n",
       "      <td>1460</td>\n",
       "      <td>FahdKha90782292</td>\n",
       "      <td>ImranKhanPTI</td>\n",
       "      <td>mention</td>\n",
       "      <td>https://twitter.com/FahdKha90782292/status/156...</td>\n",
       "    </tr>\n",
       "    <tr>\n",
       "      <th>1460</th>\n",
       "      <td>1461</td>\n",
       "      <td>FahdKha90782292</td>\n",
       "      <td>ShireenMazari1</td>\n",
       "      <td>mention</td>\n",
       "      <td>https://twitter.com/FahdKha90782292/status/156...</td>\n",
       "    </tr>\n",
       "    <tr>\n",
       "      <th>1461</th>\n",
       "      <td>1462</td>\n",
       "      <td>FahdKha90782292</td>\n",
       "      <td>roomanajamil</td>\n",
       "      <td>retweet</td>\n",
       "      <td>https://twitter.com/FahdKha90782292/status/156...</td>\n",
       "    </tr>\n",
       "    <tr>\n",
       "      <th>1462</th>\n",
       "      <td>1463</td>\n",
       "      <td>FahdKha90782292</td>\n",
       "      <td>GMehvishali</td>\n",
       "      <td>mention</td>\n",
       "      <td>https://twitter.com/FahdKha90782292/status/156...</td>\n",
       "    </tr>\n",
       "  </tbody>\n",
       "</table>\n",
       "<p>1463 rows × 5 columns</p>\n",
       "</div>"
      ],
      "text/plain": [
       "      S NO             From              To Tweet Type  \\\n",
       "0        1          WQSKHCH    AnsarAAbbasi    mention   \n",
       "1        2          WQSKHCH  OfficialDGISPR    mention   \n",
       "2        3          WQSKHCH      FIA_Agency    mention   \n",
       "3        4          WQSKHCH     reportpemra    mention   \n",
       "4        5          WQSKHCH         arsched    mention   \n",
       "...    ...              ...             ...        ...   \n",
       "1458  1459  FahdKha90782292   PTIKPOfficial    mention   \n",
       "1459  1460  FahdKha90782292    ImranKhanPTI    mention   \n",
       "1460  1461  FahdKha90782292  ShireenMazari1    mention   \n",
       "1461  1462  FahdKha90782292    roomanajamil    retweet   \n",
       "1462  1463  FahdKha90782292     GMehvishali    mention   \n",
       "\n",
       "                                            Tweet Links  \n",
       "0     https://twitter.com/WQSKHCH/status/15712628688...  \n",
       "1     https://twitter.com/WQSKHCH/status/15712628688...  \n",
       "2     https://twitter.com/WQSKHCH/status/15712628688...  \n",
       "3     https://twitter.com/WQSKHCH/status/15712628688...  \n",
       "4     https://twitter.com/WQSKHCH/status/15712637377...  \n",
       "...                                                 ...  \n",
       "1458  https://twitter.com/FahdKha90782292/status/156...  \n",
       "1459  https://twitter.com/FahdKha90782292/status/156...  \n",
       "1460  https://twitter.com/FahdKha90782292/status/156...  \n",
       "1461  https://twitter.com/FahdKha90782292/status/156...  \n",
       "1462  https://twitter.com/FahdKha90782292/status/156...  \n",
       "\n",
       "[1463 rows x 5 columns]"
      ]
     },
     "execution_count": 87,
     "metadata": {},
     "output_type": "execute_result"
    }
   ],
   "source": [
    "df"
   ]
  },
  {
   "cell_type": "code",
   "execution_count": 82,
   "id": "bfe910bb",
   "metadata": {},
   "outputs": [
    {
     "data": {
      "text/plain": [
       "['WQSKHCH',\n",
       " 'FahdKha90782292',\n",
       " 'marumaria777',\n",
       " 'Saif000778',\n",
       " 'call_me_iaysh',\n",
       " 'bhatti2007',\n",
       " 'PandraniZehri',\n",
       " 'MaleehaHashmey',\n",
       " 'MumtazLaghari16',\n",
       " 'DarakhshanR786',\n",
       " 'Zyyan_Ali',\n",
       " '_Sumaira_afzal_',\n",
       " 'HABhatti12',\n",
       " 'AajKamranKhan',\n",
       " 'ArslanJ72097219',\n",
       " 'areebanoor24',\n",
       " 'SanaRaoPTI',\n",
       " 'Muhamma34759606',\n",
       " 'shamsherniazi01',\n",
       " 'raheel25677',\n",
       " 'Bashirk20416092',\n",
       " 'iRaiSaqib',\n",
       " 'SalmanView',\n",
       " 'PakForeverIA',\n",
       " 'usmansaeedbasra',\n",
       " 'maskeench',\n",
       " 'Aarafiea',\n",
       " 'ranaumar59',\n",
       " 'AmirNas08682979',\n",
       " 'syed_maazuddin',\n",
       " 'PTIofficial',\n",
       " 'p4pakipower',\n",
       " 'SyedSha51875322',\n",
       " 'falakjavaidkhan',\n",
       " 'StaunchInsafi',\n",
       " 'RealWaqarMaliks',\n",
       " 'fulltosspk',\n",
       " 'GaziAmirGujar',\n",
       " 'UmmeMuh46225385',\n",
       " 'awanmaliksaqib',\n",
       " 'fawadchaudhry',\n",
       " 'Naya__Pakistan_',\n",
       " 'rahpota',\n",
       " 'TallatAbbasi5',\n",
       " 'MMAslamIqbal',\n",
       " 'mjamal555',\n",
       " 'TabiCh_DxB',\n",
       " 'Champion___X',\n",
       " 'sardarhtahirkhn',\n",
       " 'AHMEDfarfront',\n",
       " 'rashidabbasy',\n",
       " 'Duajutt24',\n",
       " 'ImranIgraPK',\n",
       " 'ShireenMazari1',\n",
       " 'shahsyedpk',\n",
       " 'mohafzals',\n",
       " 'iihtishamm',\n",
       " 'Jooookeeeerrrr',\n",
       " 'IlyasRandhawa5',\n",
       " 'KashifBaIoch',\n",
       " 'huskyfernie',\n",
       " 'shahbazbutt78',\n",
       " 'SdqJaan',\n",
       " 'Waqar_270609',\n",
       " 'PTI_khilary',\n",
       " 'MujahidSehwani',\n",
       " 'gobajwago',\n",
       " 'ZaahidBaloch',\n",
       " 'Muhamma67068019',\n",
       " 'WazirZaitullah',\n",
       " 'WasifHasan19',\n",
       " 'Khan169200',\n",
       " 'overseaspak12',\n",
       " 'LeoDLion9',\n",
       " 'MariyaH1961',\n",
       " 'SidraKiran786',\n",
       " 'ImranRiazKhan',\n",
       " 'shahubaidahrar',\n",
       " 'Karachi__Wali',\n",
       " 'Its_salahuddin1',\n",
       " 'sabine_kayani',\n",
       " 'ShaistaBukhari4',\n",
       " 'NayeSubhoSham',\n",
       " 'TalhaSheikh0007',\n",
       " 'wear_n_tear',\n",
       " 'janaan_pk',\n",
       " 'SalmanN53418785',\n",
       " 'bilalm1983',\n",
       " 'IrumQaisran',\n",
       " 'lVeenaMalik',\n",
       " 'RaheeqAbbasi',\n",
       " 'IKs__Army']"
      ]
     },
     "execution_count": 82,
     "metadata": {},
     "output_type": "execute_result"
    }
   ],
   "source": [
    "a"
   ]
  },
  {
   "cell_type": "code",
   "execution_count": null,
   "id": "92dcf7fb",
   "metadata": {},
   "outputs": [],
   "source": []
  },
  {
   "cell_type": "code",
   "execution_count": null,
   "id": "e95706ac",
   "metadata": {},
   "outputs": [],
   "source": []
  },
  {
   "cell_type": "code",
   "execution_count": null,
   "id": "1cd6b442",
   "metadata": {},
   "outputs": [],
   "source": []
  },
  {
   "cell_type": "code",
   "execution_count": 61,
   "id": "b9ca5a0d",
   "metadata": {},
   "outputs": [],
   "source": [
    "n = Network(width = \"900px\")"
   ]
  },
  {
   "cell_type": "code",
   "execution_count": 67,
   "id": "81fd0e21",
   "metadata": {},
   "outputs": [],
   "source": [
    "n.add_node(\"sss\")\n",
    "n.add_node(\"ddd\")\n",
    "n.add_edge(\"sss\",\"ddd\")"
   ]
  },
  {
   "cell_type": "code",
   "execution_count": 68,
   "id": "c61b4a3c",
   "metadata": {},
   "outputs": [],
   "source": [
    "n.show('n.html')"
   ]
  },
  {
   "cell_type": "code",
   "execution_count": null,
   "id": "5655c003",
   "metadata": {},
   "outputs": [],
   "source": []
  }
 ],
 "metadata": {
  "kernelspec": {
   "display_name": "Python 3",
   "language": "python",
   "name": "python3"
  },
  "language_info": {
   "codemirror_mode": {
    "name": "ipython",
    "version": 3
   },
   "file_extension": ".py",
   "mimetype": "text/x-python",
   "name": "python",
   "nbconvert_exporter": "python",
   "pygments_lexer": "ipython3",
   "version": "3.8.8"
  }
 },
 "nbformat": 4,
 "nbformat_minor": 5
}
