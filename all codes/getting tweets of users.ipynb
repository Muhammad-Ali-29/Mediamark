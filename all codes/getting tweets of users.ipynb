{
 "cells": [
  {
   "cell_type": "markdown",
   "id": "4548e09a",
   "metadata": {},
   "source": [
    "### This file was created to extract the latest 1000 tweets of the users. these users were sent by Sir Faaiz in an excel sheet as a sample"
   ]
  },
  {
   "cell_type": "code",
   "execution_count": 40,
   "id": "e3fa491f",
   "metadata": {},
   "outputs": [
    {
     "name": "stderr",
     "output_type": "stream",
     "text": [
      "<ipython-input-40-39859fd8be46>:12: FutureWarning: content is deprecated, use rawContent instead\n",
      "  tweets_list1.append([tweet.date, tweet.id, tweet.content, tweet.user.username , tweet.mentionedUsers]) #declare the attributes to be returned\n"
     ]
    }
   ],
   "source": [
    "# importing libraries and packages\n",
    "import snscrape.modules.twitter as sntwitter\n",
    "import pandas as pd\n",
    "\n",
    "# Creating list to append tweet data \n",
    "tweets_list1 = []\n",
    "\n",
    "# Using TwitterSearchScraper to scrape data and append tweets to list\n",
    "for i,tweet in enumerate(sntwitter.TwitterSearchScraper('from:onlyzill').get_items()): #declare a username \n",
    "    if i>1000: #number of tweets you want to scrape\n",
    "        break\n",
    "    tweets_list1.append([tweet.date, tweet.id, tweet.content, tweet.user.username , tweet.mentionedUsers]) #declare the attributes to be returned\n",
    "    \n",
    "# Creating a dataframe from the tweets list above \n",
    "tweets_df1 = pd.DataFrame(tweets_list1, columns=['Datetime', 'Tweet Id', 'Text', 'Username' , \"Mentioned Users\"])"
   ]
  },
  {
   "cell_type": "code",
   "execution_count": 41,
   "id": "31831d3d",
   "metadata": {},
   "outputs": [
    {
     "data": {
      "text/html": [
       "<div>\n",
       "<style scoped>\n",
       "    .dataframe tbody tr th:only-of-type {\n",
       "        vertical-align: middle;\n",
       "    }\n",
       "\n",
       "    .dataframe tbody tr th {\n",
       "        vertical-align: top;\n",
       "    }\n",
       "\n",
       "    .dataframe thead th {\n",
       "        text-align: right;\n",
       "    }\n",
       "</style>\n",
       "<table border=\"1\" class=\"dataframe\">\n",
       "  <thead>\n",
       "    <tr style=\"text-align: right;\">\n",
       "      <th></th>\n",
       "      <th>Datetime</th>\n",
       "      <th>Tweet Id</th>\n",
       "      <th>Text</th>\n",
       "      <th>Username</th>\n",
       "      <th>Mentioned Users</th>\n",
       "    </tr>\n",
       "  </thead>\n",
       "  <tbody>\n",
       "    <tr>\n",
       "      <th>0</th>\n",
       "      <td>2022-08-23 04:19:36+00:00</td>\n",
       "      <td>1561931136867381248</td>\n",
       "      <td>@Fani2536 https://t.co/j5mbQYXoRd</td>\n",
       "      <td>onlyzill</td>\n",
       "      <td>[https://twitter.com/Fani2536]</td>\n",
       "    </tr>\n",
       "    <tr>\n",
       "      <th>1</th>\n",
       "      <td>2022-08-23 04:17:27+00:00</td>\n",
       "      <td>1561930591935033344</td>\n",
       "      <td>@khawerPTI https://t.co/08YBBuUPHb</td>\n",
       "      <td>onlyzill</td>\n",
       "      <td>[https://twitter.com/khawerPTI]</td>\n",
       "    </tr>\n",
       "    <tr>\n",
       "      <th>2</th>\n",
       "      <td>2022-08-23 00:58:56+00:00</td>\n",
       "      <td>1561880634305703937</td>\n",
       "      <td>@Fani2536 https://t.co/80QZiHNwFI</td>\n",
       "      <td>onlyzill</td>\n",
       "      <td>[https://twitter.com/Fani2536]</td>\n",
       "    </tr>\n",
       "    <tr>\n",
       "      <th>3</th>\n",
       "      <td>2022-08-23 00:32:41+00:00</td>\n",
       "      <td>1561874028910215174</td>\n",
       "      <td>@ImranBa19926093 https://t.co/hVB63Ewqsz</td>\n",
       "      <td>onlyzill</td>\n",
       "      <td>[https://twitter.com/ImranBa19926093]</td>\n",
       "    </tr>\n",
       "    <tr>\n",
       "      <th>4</th>\n",
       "      <td>2022-08-23 00:28:35+00:00</td>\n",
       "      <td>1561872997480550401</td>\n",
       "      <td>@ArshadSalim18 https://t.co/Eeq774S60u</td>\n",
       "      <td>onlyzill</td>\n",
       "      <td>[https://twitter.com/ArshadSalim18]</td>\n",
       "    </tr>\n",
       "  </tbody>\n",
       "</table>\n",
       "</div>"
      ],
      "text/plain": [
       "                   Datetime             Tweet Id  \\\n",
       "0 2022-08-23 04:19:36+00:00  1561931136867381248   \n",
       "1 2022-08-23 04:17:27+00:00  1561930591935033344   \n",
       "2 2022-08-23 00:58:56+00:00  1561880634305703937   \n",
       "3 2022-08-23 00:32:41+00:00  1561874028910215174   \n",
       "4 2022-08-23 00:28:35+00:00  1561872997480550401   \n",
       "\n",
       "                                       Text  Username  \\\n",
       "0         @Fani2536 https://t.co/j5mbQYXoRd  onlyzill   \n",
       "1        @khawerPTI https://t.co/08YBBuUPHb  onlyzill   \n",
       "2         @Fani2536 https://t.co/80QZiHNwFI  onlyzill   \n",
       "3  @ImranBa19926093 https://t.co/hVB63Ewqsz  onlyzill   \n",
       "4    @ArshadSalim18 https://t.co/Eeq774S60u  onlyzill   \n",
       "\n",
       "                         Mentioned Users  \n",
       "0         [https://twitter.com/Fani2536]  \n",
       "1        [https://twitter.com/khawerPTI]  \n",
       "2         [https://twitter.com/Fani2536]  \n",
       "3  [https://twitter.com/ImranBa19926093]  \n",
       "4    [https://twitter.com/ArshadSalim18]  "
      ]
     },
     "execution_count": 41,
     "metadata": {},
     "output_type": "execute_result"
    }
   ],
   "source": [
    "tweets_df1.head()"
   ]
  },
  {
   "cell_type": "code",
   "execution_count": 42,
   "id": "4485f5df",
   "metadata": {},
   "outputs": [
    {
     "data": {
      "text/plain": [
       "<bound method DataFrame.count of                      Datetime             Tweet Id  \\\n",
       "0   2022-08-23 04:19:36+00:00  1561931136867381248   \n",
       "1   2022-08-23 04:17:27+00:00  1561930591935033344   \n",
       "2   2022-08-23 00:58:56+00:00  1561880634305703937   \n",
       "3   2022-08-23 00:32:41+00:00  1561874028910215174   \n",
       "4   2022-08-23 00:28:35+00:00  1561872997480550401   \n",
       "..                        ...                  ...   \n",
       "316 2020-04-27 11:25:40+00:00  1254733446468886530   \n",
       "317 2017-04-07 02:59:16+00:00   850181149015941120   \n",
       "318 2014-08-19 08:03:36+00:00   501640612441894912   \n",
       "319 2013-05-13 11:36:54+00:00   333908706913820672   \n",
       "320 2013-05-13 10:05:00+00:00   333885579827748865   \n",
       "\n",
       "                                                  Text  Username  \\\n",
       "0                    @Fani2536 https://t.co/j5mbQYXoRd  onlyzill   \n",
       "1                   @khawerPTI https://t.co/08YBBuUPHb  onlyzill   \n",
       "2                    @Fani2536 https://t.co/80QZiHNwFI  onlyzill   \n",
       "3             @ImranBa19926093 https://t.co/hVB63Ewqsz  onlyzill   \n",
       "4               @ArshadSalim18 https://t.co/Eeq774S60u  onlyzill   \n",
       "..                                                 ...       ...   \n",
       "316                                      @AWGoraya you  onlyzill   \n",
       "317  The Sunrise Cash Cow  - Yahoo7 https://t.co/JR...  onlyzill   \n",
       "318                      Just checking my first tweet.  onlyzill   \n",
       "319                          @A_DreamCatcher_ checking  onlyzill   \n",
       "320                                        First Tweet  onlyzill   \n",
       "\n",
       "                           Mentioned Users  \n",
       "0           [https://twitter.com/Fani2536]  \n",
       "1          [https://twitter.com/khawerPTI]  \n",
       "2           [https://twitter.com/Fani2536]  \n",
       "3    [https://twitter.com/ImranBa19926093]  \n",
       "4      [https://twitter.com/ArshadSalim18]  \n",
       "..                                     ...  \n",
       "316         [https://twitter.com/AWGoraya]  \n",
       "317                                   None  \n",
       "318                                   None  \n",
       "319  [https://twitter.com/A_DreamCatcher_]  \n",
       "320                                   None  \n",
       "\n",
       "[321 rows x 5 columns]>"
      ]
     },
     "execution_count": 42,
     "metadata": {},
     "output_type": "execute_result"
    }
   ],
   "source": [
    "tweets_df1.count"
   ]
  },
  {
   "cell_type": "code",
   "execution_count": 43,
   "id": "580417fd",
   "metadata": {},
   "outputs": [],
   "source": [
    "tweets_df1.to_csv(\"zill.csv\")"
   ]
  },
  {
   "cell_type": "markdown",
   "id": "44f31cc7",
   "metadata": {},
   "source": [
    "### User 2"
   ]
  },
  {
   "cell_type": "code",
   "execution_count": 44,
   "id": "7845680f",
   "metadata": {},
   "outputs": [
    {
     "name": "stderr",
     "output_type": "stream",
     "text": [
      "<ipython-input-44-9156e70c123f>:12: FutureWarning: content is deprecated, use rawContent instead\n",
      "  tweets_list1.append([tweet.date, tweet.id, tweet.content, tweet.user.username , tweet.mentionedUsers]) #declare the attributes to be returned\n"
     ]
    }
   ],
   "source": [
    "# importing libraries and packages\n",
    "import snscrape.modules.twitter as sntwitter\n",
    "import pandas as pd\n",
    "\n",
    "# Creating list to append tweet data \n",
    "tweets_list1 = []\n",
    "\n",
    "# Using TwitterSearchScraper to scrape data and append tweets to list\n",
    "for i,tweet in enumerate(sntwitter.TwitterSearchScraper('from:masadulislam503').get_items()): #declare a username \n",
    "    if i>1000: #number of tweets you want to scrape\n",
    "        break\n",
    "    tweets_list1.append([tweet.date, tweet.id, tweet.content, tweet.user.username , tweet.mentionedUsers]) #declare the attributes to be returned\n",
    "    \n",
    "# Creating a dataframe from the tweets list above \n",
    "tweets_df1 = pd.DataFrame(tweets_list1, columns=['Datetime', 'Tweet Id', 'Text', 'Username' , \"Mentioned Users\"])"
   ]
  },
  {
   "cell_type": "code",
   "execution_count": 45,
   "id": "3d230670",
   "metadata": {},
   "outputs": [
    {
     "data": {
      "text/html": [
       "<div>\n",
       "<style scoped>\n",
       "    .dataframe tbody tr th:only-of-type {\n",
       "        vertical-align: middle;\n",
       "    }\n",
       "\n",
       "    .dataframe tbody tr th {\n",
       "        vertical-align: top;\n",
       "    }\n",
       "\n",
       "    .dataframe thead th {\n",
       "        text-align: right;\n",
       "    }\n",
       "</style>\n",
       "<table border=\"1\" class=\"dataframe\">\n",
       "  <thead>\n",
       "    <tr style=\"text-align: right;\">\n",
       "      <th></th>\n",
       "      <th>Datetime</th>\n",
       "      <th>Tweet Id</th>\n",
       "      <th>Text</th>\n",
       "      <th>Username</th>\n",
       "      <th>Mentioned Users</th>\n",
       "    </tr>\n",
       "  </thead>\n",
       "  <tbody>\n",
       "    <tr>\n",
       "      <th>0</th>\n",
       "      <td>2022-08-23 17:08:02+00:00</td>\n",
       "      <td>1562124515576086530</td>\n",
       "      <td>@MaryamNSharif @CMShehbaz @MiftahIsmail شکریہ ...</td>\n",
       "      <td>masadulislam503</td>\n",
       "      <td>[https://twitter.com/MaryamNSharif, https://tw...</td>\n",
       "    </tr>\n",
       "    <tr>\n",
       "      <th>1</th>\n",
       "      <td>2022-08-23 16:55:07+00:00</td>\n",
       "      <td>1562121268874330115</td>\n",
       "      <td>آسمانی بجلی کا بل بھی بجلی کے بلوں میں آیڈ کر ...</td>\n",
       "      <td>masadulislam503</td>\n",
       "      <td>None</td>\n",
       "    </tr>\n",
       "    <tr>\n",
       "      <th>2</th>\n",
       "      <td>2022-08-23 16:55:00+00:00</td>\n",
       "      <td>1562121235647156225</td>\n",
       "      <td>@RashidNasrulah پہلی خبر : وزیراعظم نے بجلی کی...</td>\n",
       "      <td>masadulislam503</td>\n",
       "      <td>[https://twitter.com/RashidNasrulah]</td>\n",
       "    </tr>\n",
       "    <tr>\n",
       "      <th>3</th>\n",
       "      <td>2022-08-23 16:52:34+00:00</td>\n",
       "      <td>1562120626881679360</td>\n",
       "      <td>@MaryamNSharif @CMShehbaz پہلی خبر : وزیراعظم ...</td>\n",
       "      <td>masadulislam503</td>\n",
       "      <td>[https://twitter.com/MaryamNSharif, https://tw...</td>\n",
       "    </tr>\n",
       "    <tr>\n",
       "      <th>4</th>\n",
       "      <td>2022-08-23 16:52:10+00:00</td>\n",
       "      <td>1562120525555671040</td>\n",
       "      <td>@MaryamNSharif @CMShehbaz آسمانی بجلی کا بل بھ...</td>\n",
       "      <td>masadulislam503</td>\n",
       "      <td>[https://twitter.com/MaryamNSharif, https://tw...</td>\n",
       "    </tr>\n",
       "  </tbody>\n",
       "</table>\n",
       "</div>"
      ],
      "text/plain": [
       "                   Datetime             Tweet Id  \\\n",
       "0 2022-08-23 17:08:02+00:00  1562124515576086530   \n",
       "1 2022-08-23 16:55:07+00:00  1562121268874330115   \n",
       "2 2022-08-23 16:55:00+00:00  1562121235647156225   \n",
       "3 2022-08-23 16:52:34+00:00  1562120626881679360   \n",
       "4 2022-08-23 16:52:10+00:00  1562120525555671040   \n",
       "\n",
       "                                                Text         Username  \\\n",
       "0  @MaryamNSharif @CMShehbaz @MiftahIsmail شکریہ ...  masadulislam503   \n",
       "1  آسمانی بجلی کا بل بھی بجلی کے بلوں میں آیڈ کر ...  masadulislam503   \n",
       "2  @RashidNasrulah پہلی خبر : وزیراعظم نے بجلی کی...  masadulislam503   \n",
       "3  @MaryamNSharif @CMShehbaz پہلی خبر : وزیراعظم ...  masadulislam503   \n",
       "4  @MaryamNSharif @CMShehbaz آسمانی بجلی کا بل بھ...  masadulislam503   \n",
       "\n",
       "                                     Mentioned Users  \n",
       "0  [https://twitter.com/MaryamNSharif, https://tw...  \n",
       "1                                               None  \n",
       "2               [https://twitter.com/RashidNasrulah]  \n",
       "3  [https://twitter.com/MaryamNSharif, https://tw...  \n",
       "4  [https://twitter.com/MaryamNSharif, https://tw...  "
      ]
     },
     "execution_count": 45,
     "metadata": {},
     "output_type": "execute_result"
    }
   ],
   "source": [
    "tweets_df1.head()"
   ]
  },
  {
   "cell_type": "code",
   "execution_count": 46,
   "id": "bb51cc48",
   "metadata": {},
   "outputs": [
    {
     "data": {
      "text/plain": [
       "<bound method DataFrame.count of                      Datetime             Tweet Id  \\\n",
       "0   2022-08-23 17:08:02+00:00  1562124515576086530   \n",
       "1   2022-08-23 16:55:07+00:00  1562121268874330115   \n",
       "2   2022-08-23 16:55:00+00:00  1562121235647156225   \n",
       "3   2022-08-23 16:52:34+00:00  1562120626881679360   \n",
       "4   2022-08-23 16:52:10+00:00  1562120525555671040   \n",
       "..                        ...                  ...   \n",
       "175 2022-03-14 16:47:18+00:00  1503412465677352962   \n",
       "176 2022-03-14 09:50:44+00:00  1503307633909977093   \n",
       "177 2022-03-14 07:12:25+00:00  1503267793491402758   \n",
       "178 2022-03-13 13:10:14+00:00  1502995450768601091   \n",
       "179 2022-03-12 05:35:41+00:00  1502518671889084416   \n",
       "\n",
       "                                                  Text         Username  \\\n",
       "0    @MaryamNSharif @CMShehbaz @MiftahIsmail شکریہ ...  masadulislam503   \n",
       "1    آسمانی بجلی کا بل بھی بجلی کے بلوں میں آیڈ کر ...  masadulislam503   \n",
       "2    @RashidNasrulah پہلی خبر : وزیراعظم نے بجلی کی...  masadulislam503   \n",
       "3    @MaryamNSharif @CMShehbaz پہلی خبر : وزیراعظم ...  masadulislam503   \n",
       "4    @MaryamNSharif @CMShehbaz آسمانی بجلی کا بل بھ...  masadulislam503   \n",
       "..                                                 ...              ...   \n",
       "175  @dw_urdu جائیں اردو سیکھ کر آئیں پھر رپورٹ کری...  masadulislam503   \n",
       "176  @OfficialDPRPP great work to keep our culture ...  masadulislam503   \n",
       "177  @UN @unwomenchief @unwomen_pak @BBCWorld now w...  masadulislam503   \n",
       "178                           @ICT_Police Well done 👍…  masadulislam503   \n",
       "179  @OfficialDPRPP @DPOMianwali Good work sir. Hop...  masadulislam503   \n",
       "\n",
       "                                       Mentioned Users  \n",
       "0    [https://twitter.com/MaryamNSharif, https://tw...  \n",
       "1                                                 None  \n",
       "2                 [https://twitter.com/RashidNasrulah]  \n",
       "3    [https://twitter.com/MaryamNSharif, https://tw...  \n",
       "4    [https://twitter.com/MaryamNSharif, https://tw...  \n",
       "..                                                 ...  \n",
       "175                      [https://twitter.com/dw_urdu]  \n",
       "176                [https://twitter.com/OfficialDPRPP]  \n",
       "177  [https://twitter.com/UN, https://twitter.com/u...  \n",
       "178                   [https://twitter.com/ICT_Police]  \n",
       "179  [https://twitter.com/OfficialDPRPP, https://tw...  \n",
       "\n",
       "[180 rows x 5 columns]>"
      ]
     },
     "execution_count": 46,
     "metadata": {},
     "output_type": "execute_result"
    }
   ],
   "source": [
    "tweets_df1.count"
   ]
  },
  {
   "cell_type": "code",
   "execution_count": 47,
   "id": "0522a3b3",
   "metadata": {},
   "outputs": [],
   "source": [
    "tweets_df1.to_csv(\"Muhammad Islam.csv\")"
   ]
  },
  {
   "cell_type": "markdown",
   "id": "d4afd95a",
   "metadata": {},
   "source": [
    "### User 3"
   ]
  },
  {
   "cell_type": "code",
   "execution_count": 48,
   "id": "2bef840b",
   "metadata": {},
   "outputs": [
    {
     "name": "stderr",
     "output_type": "stream",
     "text": [
      "<ipython-input-48-9aa50fc62a68>:12: FutureWarning: content is deprecated, use rawContent instead\n",
      "  tweets_list1.append([tweet.date, tweet.id, tweet.content, tweet.user.username , tweet.mentionedUsers]) #declare the attributes to be returned\n"
     ]
    }
   ],
   "source": [
    "# importing libraries and packages\n",
    "import snscrape.modules.twitter as sntwitter\n",
    "import pandas as pd\n",
    "\n",
    "# Creating list to append tweet data \n",
    "tweets_list1 = []\n",
    "\n",
    "# Using TwitterSearchScraper to scrape data and append tweets to list\n",
    "for i,tweet in enumerate(sntwitter.TwitterSearchScraper('from:usmanchishty3').get_items()): #declare a username \n",
    "    if i>1000: #number of tweets you want to scrape\n",
    "        break\n",
    "    tweets_list1.append([tweet.date, tweet.id, tweet.content, tweet.user.username , tweet.mentionedUsers]) #declare the attributes to be returned\n",
    "    \n",
    "# Creating a dataframe from the tweets list above \n",
    "tweets_df1 = pd.DataFrame(tweets_list1, columns=['Datetime', 'Tweet Id', 'Text', 'Username' , \"Mentioned Users\"])"
   ]
  },
  {
   "cell_type": "code",
   "execution_count": 49,
   "id": "41199c2e",
   "metadata": {},
   "outputs": [
    {
     "data": {
      "text/html": [
       "<div>\n",
       "<style scoped>\n",
       "    .dataframe tbody tr th:only-of-type {\n",
       "        vertical-align: middle;\n",
       "    }\n",
       "\n",
       "    .dataframe tbody tr th {\n",
       "        vertical-align: top;\n",
       "    }\n",
       "\n",
       "    .dataframe thead th {\n",
       "        text-align: right;\n",
       "    }\n",
       "</style>\n",
       "<table border=\"1\" class=\"dataframe\">\n",
       "  <thead>\n",
       "    <tr style=\"text-align: right;\">\n",
       "      <th></th>\n",
       "      <th>Datetime</th>\n",
       "      <th>Tweet Id</th>\n",
       "      <th>Text</th>\n",
       "      <th>Username</th>\n",
       "      <th>Mentioned Users</th>\n",
       "    </tr>\n",
       "  </thead>\n",
       "  <tbody>\n",
       "    <tr>\n",
       "      <th>0</th>\n",
       "      <td>2022-08-23 18:19:57+00:00</td>\n",
       "      <td>1562142617168650242</td>\n",
       "      <td>بیغیرتو قوم دا لٹیا پیسہ دیو قومی خزانے وچوں نئیں</td>\n",
       "      <td>usmanchishty3</td>\n",
       "      <td>None</td>\n",
       "    </tr>\n",
       "    <tr>\n",
       "      <th>1</th>\n",
       "      <td>2022-08-23 18:12:57+00:00</td>\n",
       "      <td>1562140855070326784</td>\n",
       "      <td>@RashidMurad @AzazSyed کتے  🐕 🐶 جتنے بھی آ جائ...</td>\n",
       "      <td>usmanchishty3</td>\n",
       "      <td>[https://twitter.com/RashidMurad, https://twit...</td>\n",
       "    </tr>\n",
       "    <tr>\n",
       "      <th>2</th>\n",
       "      <td>2022-08-23 18:10:05+00:00</td>\n",
       "      <td>1562140134409228289</td>\n",
       "      <td>@laraib_virk باجوہ سور 🐷🐷 تھا اور ہے</td>\n",
       "      <td>usmanchishty3</td>\n",
       "      <td>[https://twitter.com/laraib_virk]</td>\n",
       "    </tr>\n",
       "    <tr>\n",
       "      <th>3</th>\n",
       "      <td>2022-08-23 16:55:28+00:00</td>\n",
       "      <td>1562121356203933697</td>\n",
       "      <td>باجوے دلے دا وس چلے تے اپنی پین نال زنا دا پرچ...</td>\n",
       "      <td>usmanchishty3</td>\n",
       "      <td>None</td>\n",
       "    </tr>\n",
       "    <tr>\n",
       "      <th>4</th>\n",
       "      <td>2022-08-23 16:50:14+00:00</td>\n",
       "      <td>1562120038924124160</td>\n",
       "      <td>@RehamKhan1 یوایا تے لے کے کھادا بھلدا تے نئیں</td>\n",
       "      <td>usmanchishty3</td>\n",
       "      <td>[https://twitter.com/RehamKhan1]</td>\n",
       "    </tr>\n",
       "  </tbody>\n",
       "</table>\n",
       "</div>"
      ],
      "text/plain": [
       "                   Datetime             Tweet Id  \\\n",
       "0 2022-08-23 18:19:57+00:00  1562142617168650242   \n",
       "1 2022-08-23 18:12:57+00:00  1562140855070326784   \n",
       "2 2022-08-23 18:10:05+00:00  1562140134409228289   \n",
       "3 2022-08-23 16:55:28+00:00  1562121356203933697   \n",
       "4 2022-08-23 16:50:14+00:00  1562120038924124160   \n",
       "\n",
       "                                                Text       Username  \\\n",
       "0  بیغیرتو قوم دا لٹیا پیسہ دیو قومی خزانے وچوں نئیں  usmanchishty3   \n",
       "1  @RashidMurad @AzazSyed کتے  🐕 🐶 جتنے بھی آ جائ...  usmanchishty3   \n",
       "2               @laraib_virk باجوہ سور 🐷🐷 تھا اور ہے  usmanchishty3   \n",
       "3  باجوے دلے دا وس چلے تے اپنی پین نال زنا دا پرچ...  usmanchishty3   \n",
       "4     @RehamKhan1 یوایا تے لے کے کھادا بھلدا تے نئیں  usmanchishty3   \n",
       "\n",
       "                                     Mentioned Users  \n",
       "0                                               None  \n",
       "1  [https://twitter.com/RashidMurad, https://twit...  \n",
       "2                  [https://twitter.com/laraib_virk]  \n",
       "3                                               None  \n",
       "4                   [https://twitter.com/RehamKhan1]  "
      ]
     },
     "execution_count": 49,
     "metadata": {},
     "output_type": "execute_result"
    }
   ],
   "source": [
    "tweets_df1.head()"
   ]
  },
  {
   "cell_type": "code",
   "execution_count": 50,
   "id": "2f278070",
   "metadata": {},
   "outputs": [
    {
     "data": {
      "text/plain": [
       "<bound method DataFrame.count of                      Datetime             Tweet Id  \\\n",
       "0   2022-08-23 18:19:57+00:00  1562142617168650242   \n",
       "1   2022-08-23 18:12:57+00:00  1562140855070326784   \n",
       "2   2022-08-23 18:10:05+00:00  1562140134409228289   \n",
       "3   2022-08-23 16:55:28+00:00  1562121356203933697   \n",
       "4   2022-08-23 16:50:14+00:00  1562120038924124160   \n",
       "..                        ...                  ...   \n",
       "611 2022-05-21 17:02:51+00:00  1528058752787746818   \n",
       "612 2022-05-21 12:22:17+00:00  1527988148428472322   \n",
       "613 2022-05-20 23:59:12+00:00  1527801144256483329   \n",
       "614 2022-05-20 23:52:34+00:00  1527799474491383808   \n",
       "615 2022-05-13 22:19:50+00:00  1525239423792709632   \n",
       "\n",
       "                                                  Text       Username  \\\n",
       "0    بیغیرتو قوم دا لٹیا پیسہ دیو قومی خزانے وچوں نئیں  usmanchishty3   \n",
       "1    @RashidMurad @AzazSyed کتے  🐕 🐶 جتنے بھی آ جائ...  usmanchishty3   \n",
       "2                 @laraib_virk باجوہ سور 🐷🐷 تھا اور ہے  usmanchishty3   \n",
       "3    باجوے دلے دا وس چلے تے اپنی پین نال زنا دا پرچ...  usmanchishty3   \n",
       "4       @RehamKhan1 یوایا تے لے کے کھادا بھلدا تے نئیں  usmanchishty3   \n",
       "..                                                 ...            ...   \n",
       "611  @CMShehbaz Roz itni Dunya marti hai ap dono bh...  usmanchishty3   \n",
       "612             یہاں بولنا ہی جرم ہے ؟ @OfficialDGISPR  usmanchishty3   \n",
       "613  @MaryamNSharif اپنی دفعہ بڑی تکلیف 420ہوتی ہے ...  usmanchishty3   \n",
       "614  @ARYSabirShakir @ImranRiazKhan please check th...  usmanchishty3   \n",
       "615                           #امپورٹڈ__حکومت__نامنظور  usmanchishty3   \n",
       "\n",
       "                                       Mentioned Users  \n",
       "0                                                 None  \n",
       "1    [https://twitter.com/RashidMurad, https://twit...  \n",
       "2                    [https://twitter.com/laraib_virk]  \n",
       "3                                                 None  \n",
       "4                     [https://twitter.com/RehamKhan1]  \n",
       "..                                                 ...  \n",
       "611                    [https://twitter.com/CMShehbaz]  \n",
       "612               [https://twitter.com/OfficialDGISPR]  \n",
       "613                [https://twitter.com/MaryamNSharif]  \n",
       "614  [https://twitter.com/ARYSabirShakir, https://t...  \n",
       "615                                               None  \n",
       "\n",
       "[616 rows x 5 columns]>"
      ]
     },
     "execution_count": 50,
     "metadata": {},
     "output_type": "execute_result"
    }
   ],
   "source": [
    "tweets_df1.count"
   ]
  },
  {
   "cell_type": "code",
   "execution_count": 13,
   "id": "aa862780",
   "metadata": {},
   "outputs": [],
   "source": [
    "tweets_df1.to_csv(\"Usman Chishty.csv\")"
   ]
  },
  {
   "cell_type": "markdown",
   "id": "3b823c07",
   "metadata": {},
   "source": [
    "### User 4"
   ]
  },
  {
   "cell_type": "code",
   "execution_count": 36,
   "id": "98d648e0",
   "metadata": {},
   "outputs": [
    {
     "name": "stderr",
     "output_type": "stream",
     "text": [
      "<ipython-input-36-7934d2ba3da5>:12: FutureWarning: content is deprecated, use rawContent instead\n",
      "  tweets_list1.append([tweet.date, tweet.id, tweet.content, tweet.user.username, tweet.mentionedUsers]) #declare the attributes to be returned\n"
     ]
    }
   ],
   "source": [
    "# importing libraries and packages\n",
    "import snscrape.modules.twitter as sntwitter\n",
    "import pandas as pd\n",
    "\n",
    "# Creating list to append tweet data \n",
    "tweets_list1 = []\n",
    "\n",
    "# Using TwitterSearchScraper to scrape data and append tweets to list\n",
    "for i,tweet in enumerate(sntwitter.TwitterSearchScraper('from:jawaidA39299586').get_items()): #declare a username \n",
    "    if i>1000: #number of tweets you want to scrape\n",
    "        break\n",
    "    tweets_list1.append([tweet.date, tweet.id, tweet.content, tweet.user.username, tweet.mentionedUsers]) #declare the attributes to be returned\n",
    "    \n",
    "# Creating a dataframe from the tweets list above \n",
    "tweets_df1 = pd.DataFrame(tweets_list1, columns=['Datetime', 'Tweet Id', 'Text', 'Username' , \"Mentioned Users\"])"
   ]
  },
  {
   "cell_type": "code",
   "execution_count": 37,
   "id": "281617ad",
   "metadata": {},
   "outputs": [
    {
     "data": {
      "text/html": [
       "<div>\n",
       "<style scoped>\n",
       "    .dataframe tbody tr th:only-of-type {\n",
       "        vertical-align: middle;\n",
       "    }\n",
       "\n",
       "    .dataframe tbody tr th {\n",
       "        vertical-align: top;\n",
       "    }\n",
       "\n",
       "    .dataframe thead th {\n",
       "        text-align: right;\n",
       "    }\n",
       "</style>\n",
       "<table border=\"1\" class=\"dataframe\">\n",
       "  <thead>\n",
       "    <tr style=\"text-align: right;\">\n",
       "      <th></th>\n",
       "      <th>Datetime</th>\n",
       "      <th>Tweet Id</th>\n",
       "      <th>Text</th>\n",
       "      <th>Username</th>\n",
       "      <th>Mentioned Users</th>\n",
       "    </tr>\n",
       "  </thead>\n",
       "  <tbody>\n",
       "    <tr>\n",
       "      <th>0</th>\n",
       "      <td>2022-08-23 14:01:07+00:00</td>\n",
       "      <td>1562077480369864704</td>\n",
       "      <td>@Marriyum_A Sub tv on kar lo ab Kay dado charg...</td>\n",
       "      <td>JawaidA39299586</td>\n",
       "      <td>[https://twitter.com/Marriyum_A]</td>\n",
       "    </tr>\n",
       "    <tr>\n",
       "      <th>1</th>\n",
       "      <td>2022-08-23 13:59:11+00:00</td>\n",
       "      <td>1562076990953295874</td>\n",
       "      <td>لگتا ھے ننگا کر کے ویڈیوز بنانے والا آئیڈیا اپ...</td>\n",
       "      <td>JawaidA39299586</td>\n",
       "      <td>None</td>\n",
       "    </tr>\n",
       "    <tr>\n",
       "      <th>2</th>\n",
       "      <td>2022-08-23 13:49:51+00:00</td>\n",
       "      <td>1562074644953415681</td>\n",
       "      <td>@hinaparvezbutt Yah tu dakho samja Kon raha ha...</td>\n",
       "      <td>JawaidA39299586</td>\n",
       "      <td>[https://twitter.com/hinaparvezbutt]</td>\n",
       "    </tr>\n",
       "    <tr>\n",
       "      <th>3</th>\n",
       "      <td>2022-08-23 13:48:20+00:00</td>\n",
       "      <td>1562074262294482945</td>\n",
       "      <td>@Marriyum_A Dado charger Ka ek or lollipop 🍭🍭🍭</td>\n",
       "      <td>JawaidA39299586</td>\n",
       "      <td>[https://twitter.com/Marriyum_A]</td>\n",
       "    </tr>\n",
       "    <tr>\n",
       "      <th>4</th>\n",
       "      <td>2022-08-23 13:32:16+00:00</td>\n",
       "      <td>1562070217152516098</td>\n",
       "      <td>@parishaawan Bilkul Sahi kah rahi hay ap</td>\n",
       "      <td>JawaidA39299586</td>\n",
       "      <td>[https://twitter.com/parishaawan]</td>\n",
       "    </tr>\n",
       "  </tbody>\n",
       "</table>\n",
       "</div>"
      ],
      "text/plain": [
       "                   Datetime             Tweet Id  \\\n",
       "0 2022-08-23 14:01:07+00:00  1562077480369864704   \n",
       "1 2022-08-23 13:59:11+00:00  1562076990953295874   \n",
       "2 2022-08-23 13:49:51+00:00  1562074644953415681   \n",
       "3 2022-08-23 13:48:20+00:00  1562074262294482945   \n",
       "4 2022-08-23 13:32:16+00:00  1562070217152516098   \n",
       "\n",
       "                                                Text         Username  \\\n",
       "0  @Marriyum_A Sub tv on kar lo ab Kay dado charg...  JawaidA39299586   \n",
       "1  لگتا ھے ننگا کر کے ویڈیوز بنانے والا آئیڈیا اپ...  JawaidA39299586   \n",
       "2  @hinaparvezbutt Yah tu dakho samja Kon raha ha...  JawaidA39299586   \n",
       "3     @Marriyum_A Dado charger Ka ek or lollipop 🍭🍭🍭  JawaidA39299586   \n",
       "4           @parishaawan Bilkul Sahi kah rahi hay ap  JawaidA39299586   \n",
       "\n",
       "                        Mentioned Users  \n",
       "0      [https://twitter.com/Marriyum_A]  \n",
       "1                                  None  \n",
       "2  [https://twitter.com/hinaparvezbutt]  \n",
       "3      [https://twitter.com/Marriyum_A]  \n",
       "4     [https://twitter.com/parishaawan]  "
      ]
     },
     "execution_count": 37,
     "metadata": {},
     "output_type": "execute_result"
    }
   ],
   "source": [
    "tweets_df1.head()"
   ]
  },
  {
   "cell_type": "code",
   "execution_count": 38,
   "id": "0e9389a4",
   "metadata": {},
   "outputs": [
    {
     "data": {
      "text/plain": [
       "<bound method DataFrame.count of                      Datetime             Tweet Id  \\\n",
       "0   2022-08-23 14:01:07+00:00  1562077480369864704   \n",
       "1   2022-08-23 13:59:11+00:00  1562076990953295874   \n",
       "2   2022-08-23 13:49:51+00:00  1562074644953415681   \n",
       "3   2022-08-23 13:48:20+00:00  1562074262294482945   \n",
       "4   2022-08-23 13:32:16+00:00  1562070217152516098   \n",
       "..                        ...                  ...   \n",
       "862 2022-04-21 00:10:12+00:00  1516932275488837638   \n",
       "863 2022-04-21 00:01:45+00:00  1516930150692179969   \n",
       "864 2022-04-20 23:27:19+00:00  1516921482743619587   \n",
       "865 2022-04-20 07:30:55+00:00  1516680796383289345   \n",
       "866 2022-04-20 03:58:46+00:00  1516627406827761673   \n",
       "\n",
       "                                                  Text         Username  \\\n",
       "0    @Marriyum_A Sub tv on kar lo ab Kay dado charg...  JawaidA39299586   \n",
       "1    لگتا ھے ننگا کر کے ویڈیوز بنانے والا آئیڈیا اپ...  JawaidA39299586   \n",
       "2    @hinaparvezbutt Yah tu dakho samja Kon raha ha...  JawaidA39299586   \n",
       "3       @Marriyum_A Dado charger Ka ek or lollipop 🍭🍭🍭  JawaidA39299586   \n",
       "4             @parishaawan Bilkul Sahi kah rahi hay ap  JawaidA39299586   \n",
       "..                                                 ...              ...   \n",
       "862  دو روز قبل جس کو 15 ہزار لوگوں کے جلسے کا طعنہ...  JawaidA39299586   \n",
       "863     #امپورٹڈ_حکومت_نامنظور https://t.co/JOmUVzf8pI  JawaidA39299586   \n",
       "864  ڈالرکی قیمت کو  پھر پر لگ گئے ۔ ڈالر کو کم کرن...  JawaidA39299586   \n",
       "865  #امپورٹڈ_حکومت_نامنظور\\n\\nAgree Retweet 👇 http...  JawaidA39299586   \n",
       "866  Dear COAS ! don't you feel ashamed when a crim...  JawaidA39299586   \n",
       "\n",
       "                          Mentioned Users  \n",
       "0        [https://twitter.com/Marriyum_A]  \n",
       "1                                    None  \n",
       "2    [https://twitter.com/hinaparvezbutt]  \n",
       "3        [https://twitter.com/Marriyum_A]  \n",
       "4       [https://twitter.com/parishaawan]  \n",
       "..                                    ...  \n",
       "862                                  None  \n",
       "863                                  None  \n",
       "864                                  None  \n",
       "865                                  None  \n",
       "866                                  None  \n",
       "\n",
       "[867 rows x 5 columns]>"
      ]
     },
     "execution_count": 38,
     "metadata": {},
     "output_type": "execute_result"
    }
   ],
   "source": [
    "tweets_df1.count"
   ]
  },
  {
   "cell_type": "code",
   "execution_count": 39,
   "id": "3d6a760a",
   "metadata": {},
   "outputs": [],
   "source": [
    "tweets_df1.to_csv(\"Jawaid Ali.csv\")"
   ]
  },
  {
   "cell_type": "markdown",
   "id": "4e7e2a1d",
   "metadata": {},
   "source": [
    "### User 5"
   ]
  },
  {
   "cell_type": "code",
   "execution_count": 32,
   "id": "27ff4dcb",
   "metadata": {},
   "outputs": [
    {
     "name": "stderr",
     "output_type": "stream",
     "text": [
      "<ipython-input-32-6c596c52afc1>:12: FutureWarning: content is deprecated, use rawContent instead\n",
      "  tweets_list1.append([tweet.date, tweet.id, tweet.content, tweet.user.username, tweet.mentionedUsers]) #declare the attributes to be returned\n"
     ]
    }
   ],
   "source": [
    "# importing libraries and packages\n",
    "import snscrape.modules.twitter as sntwitter\n",
    "import pandas as pd\n",
    "\n",
    "# Creating list to append tweet data \n",
    "tweets_list1 = []\n",
    "\n",
    "# Using TwitterSearchScraper to scrape data and append tweets to list\n",
    "for i,tweet in enumerate(sntwitter.TwitterSearchScraper('from:Maira_pak').get_items()): #declare a username \n",
    "    if i>1000: #number of tweets you want to scrape\n",
    "        break\n",
    "    tweets_list1.append([tweet.date, tweet.id, tweet.content, tweet.user.username, tweet.mentionedUsers]) #declare the attributes to be returned\n",
    "    \n",
    "# Creating a dataframe from the tweets list above \n",
    "tweets_df1 = pd.DataFrame(tweets_list1, columns=['Datetime', 'Tweet Id', 'Text', 'Username', \"Mentioned Users\"])"
   ]
  },
  {
   "cell_type": "code",
   "execution_count": 33,
   "id": "b1dd65ea",
   "metadata": {},
   "outputs": [
    {
     "data": {
      "text/html": [
       "<div>\n",
       "<style scoped>\n",
       "    .dataframe tbody tr th:only-of-type {\n",
       "        vertical-align: middle;\n",
       "    }\n",
       "\n",
       "    .dataframe tbody tr th {\n",
       "        vertical-align: top;\n",
       "    }\n",
       "\n",
       "    .dataframe thead th {\n",
       "        text-align: right;\n",
       "    }\n",
       "</style>\n",
       "<table border=\"1\" class=\"dataframe\">\n",
       "  <thead>\n",
       "    <tr style=\"text-align: right;\">\n",
       "      <th></th>\n",
       "      <th>Datetime</th>\n",
       "      <th>Tweet Id</th>\n",
       "      <th>Text</th>\n",
       "      <th>Username</th>\n",
       "      <th>Mentioned Users</th>\n",
       "    </tr>\n",
       "  </thead>\n",
       "  <tbody>\n",
       "    <tr>\n",
       "      <th>0</th>\n",
       "      <td>2022-08-23 18:16:28+00:00</td>\n",
       "      <td>1562141738998927362</td>\n",
       "      <td>اگر کوئ بھی فورس ہماری حقیقی آزادی کے درمیان آ...</td>\n",
       "      <td>Maira_pak</td>\n",
       "      <td>None</td>\n",
       "    </tr>\n",
       "    <tr>\n",
       "      <th>1</th>\n",
       "      <td>2022-08-22 16:36:38+00:00</td>\n",
       "      <td>1561754225570349056</td>\n",
       "      <td>باجوا صاحب جمیل فاروقی یتیم بچہ تھا اللہ محمد ...</td>\n",
       "      <td>Maira_pak</td>\n",
       "      <td>None</td>\n",
       "    </tr>\n",
       "    <tr>\n",
       "      <th>2</th>\n",
       "      <td>2022-08-22 10:55:06+00:00</td>\n",
       "      <td>1561668277289586688</td>\n",
       "      <td>عمران خان کراچھی سے ضمنی الیکشن جیت گیا اور 13...</td>\n",
       "      <td>Maira_pak</td>\n",
       "      <td>None</td>\n",
       "    </tr>\n",
       "    <tr>\n",
       "      <th>3</th>\n",
       "      <td>2022-08-21 17:00:21+00:00</td>\n",
       "      <td>1561397810259300353</td>\n",
       "      <td>میں آگئ ہوں بنی گالہ اور ہمارے 31 خاندانوں کے ...</td>\n",
       "      <td>Maira_pak</td>\n",
       "      <td>None</td>\n",
       "    </tr>\n",
       "    <tr>\n",
       "      <th>4</th>\n",
       "      <td>2022-08-21 16:10:20+00:00</td>\n",
       "      <td>1561385219495804929</td>\n",
       "      <td>مجھے ابھی کال آئ ہںے تمام لوگ بنی گالہ آجائیں ...</td>\n",
       "      <td>Maira_pak</td>\n",
       "      <td>None</td>\n",
       "    </tr>\n",
       "  </tbody>\n",
       "</table>\n",
       "</div>"
      ],
      "text/plain": [
       "                   Datetime             Tweet Id  \\\n",
       "0 2022-08-23 18:16:28+00:00  1562141738998927362   \n",
       "1 2022-08-22 16:36:38+00:00  1561754225570349056   \n",
       "2 2022-08-22 10:55:06+00:00  1561668277289586688   \n",
       "3 2022-08-21 17:00:21+00:00  1561397810259300353   \n",
       "4 2022-08-21 16:10:20+00:00  1561385219495804929   \n",
       "\n",
       "                                                Text   Username  \\\n",
       "0  اگر کوئ بھی فورس ہماری حقیقی آزادی کے درمیان آ...  Maira_pak   \n",
       "1  باجوا صاحب جمیل فاروقی یتیم بچہ تھا اللہ محمد ...  Maira_pak   \n",
       "2  عمران خان کراچھی سے ضمنی الیکشن جیت گیا اور 13...  Maira_pak   \n",
       "3  میں آگئ ہوں بنی گالہ اور ہمارے 31 خاندانوں کے ...  Maira_pak   \n",
       "4  مجھے ابھی کال آئ ہںے تمام لوگ بنی گالہ آجائیں ...  Maira_pak   \n",
       "\n",
       "  Mentioned Users  \n",
       "0            None  \n",
       "1            None  \n",
       "2            None  \n",
       "3            None  \n",
       "4            None  "
      ]
     },
     "execution_count": 33,
     "metadata": {},
     "output_type": "execute_result"
    }
   ],
   "source": [
    "tweets_df1.head()"
   ]
  },
  {
   "cell_type": "code",
   "execution_count": 34,
   "id": "7da17a93",
   "metadata": {},
   "outputs": [
    {
     "data": {
      "text/plain": [
       "<bound method DataFrame.count of                      Datetime             Tweet Id  \\\n",
       "0   2022-08-23 18:16:28+00:00  1562141738998927362   \n",
       "1   2022-08-22 16:36:38+00:00  1561754225570349056   \n",
       "2   2022-08-22 10:55:06+00:00  1561668277289586688   \n",
       "3   2022-08-21 17:00:21+00:00  1561397810259300353   \n",
       "4   2022-08-21 16:10:20+00:00  1561385219495804929   \n",
       "..                        ...                  ...   \n",
       "905 2022-05-24 13:09:55+00:00  1529087295718031365   \n",
       "906 2022-05-24 13:09:34+00:00  1529087210519158787   \n",
       "907 2022-05-24 13:06:44+00:00  1529086497953021952   \n",
       "908 2022-05-24 13:06:34+00:00  1529086454219022338   \n",
       "909 2022-05-24 13:06:17+00:00  1529086383343673344   \n",
       "\n",
       "                                                  Text   Username  \\\n",
       "0    اگر کوئ بھی فورس ہماری حقیقی آزادی کے درمیان آ...  Maira_pak   \n",
       "1    باجوا صاحب جمیل فاروقی یتیم بچہ تھا اللہ محمد ...  Maira_pak   \n",
       "2    عمران خان کراچھی سے ضمنی الیکشن جیت گیا اور 13...  Maira_pak   \n",
       "3    میں آگئ ہوں بنی گالہ اور ہمارے 31 خاندانوں کے ...  Maira_pak   \n",
       "4    مجھے ابھی کال آئ ہںے تمام لوگ بنی گالہ آجائیں ...  Maira_pak   \n",
       "..                                                 ...        ...   \n",
       "905                          @PTIofficial @CMShehbaz 🥺  Maira_pak   \n",
       "906                    @soldierspeaks We come pakistan  Maira_pak   \n",
       "907                          @InsafPK @fawadchaudhry 🥺  Maira_pak   \n",
       "908    @soldierspeaks @fawadchaudhry @OfficialDGISPR 🥺  Maira_pak   \n",
       "909                       @Shiffa_ZY @zartajgulwazir 😔  Maira_pak   \n",
       "\n",
       "                                       Mentioned Users  \n",
       "0                                                 None  \n",
       "1                                                 None  \n",
       "2                                                 None  \n",
       "3                                                 None  \n",
       "4                                                 None  \n",
       "..                                                 ...  \n",
       "905  [https://twitter.com/PTIofficial, https://twit...  \n",
       "906                [https://twitter.com/soldierspeaks]  \n",
       "907  [https://twitter.com/InsafPK, https://twitter....  \n",
       "908  [https://twitter.com/soldierspeaks, https://tw...  \n",
       "909  [https://twitter.com/Shiffa_ZY, https://twitte...  \n",
       "\n",
       "[910 rows x 5 columns]>"
      ]
     },
     "execution_count": 34,
     "metadata": {},
     "output_type": "execute_result"
    }
   ],
   "source": [
    "tweets_df1.count"
   ]
  },
  {
   "cell_type": "code",
   "execution_count": 35,
   "id": "be044f81",
   "metadata": {},
   "outputs": [],
   "source": [
    "tweets_df1.to_csv(\"Maira.csv\")"
   ]
  },
  {
   "cell_type": "code",
   "execution_count": null,
   "id": "bf19e05c",
   "metadata": {},
   "outputs": [],
   "source": []
  }
 ],
 "metadata": {
  "kernelspec": {
   "display_name": "Python 3",
   "language": "python",
   "name": "python3"
  },
  "language_info": {
   "codemirror_mode": {
    "name": "ipython",
    "version": 3
   },
   "file_extension": ".py",
   "mimetype": "text/x-python",
   "name": "python",
   "nbconvert_exporter": "python",
   "pygments_lexer": "ipython3",
   "version": "3.8.8"
  }
 },
 "nbformat": 4,
 "nbformat_minor": 5
}
