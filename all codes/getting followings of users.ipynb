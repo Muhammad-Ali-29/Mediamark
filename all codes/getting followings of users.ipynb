{
 "cells": [
  {
   "cell_type": "markdown",
   "id": "3f890302",
   "metadata": {},
   "source": [
    "### This file was created to extract the followings of the users. these users were sent by Sir Faaiz in an excel sheet as a sample."
   ]
  },
  {
   "cell_type": "code",
   "execution_count": 3,
   "id": "790a99f3",
   "metadata": {},
   "outputs": [],
   "source": [
    "import tweepy\n",
    "import time"
   ]
  },
  {
   "cell_type": "code",
   "execution_count": null,
   "id": "623e9df3",
   "metadata": {},
   "outputs": [],
   "source": []
  },
  {
   "cell_type": "code",
   "execution_count": 4,
   "id": "8080272e",
   "metadata": {},
   "outputs": [],
   "source": [
    "auth = tweepy.OAuth1UserHandler(consumer_key = 'bQkqoFcBWOB3Bwkjke1Cp0yLF', consumer_secret = 'Lrw79eMTN3JTIhSBRRYjdfiT37zHSisOdvRsnGUzYWz7YahDSg', \n",
    "    access_token= '115045606-qizJynpZwzNYEv6W79i9uj6HattJ3pQw6TRxMrjn', access_token_secret= 'XOXkL8mRDdyObRT6zFdqSpAiP6EpDwpL62fL1tilIOo68') \n",
    "api = tweepy.API(auth)"
   ]
  },
  {
   "cell_type": "code",
   "execution_count": 8,
   "id": "b866b715",
   "metadata": {},
   "outputs": [],
   "source": [
    "def getting_followings(name):\n",
    "    screen_name = name\n",
    "    user = api.get_user(screen_name = screen_name)\n",
    "    account_id = user.id_str\n",
    "    follower_ids = []\n",
    "    for page in tweepy.Cursor(api.get_friend_ids, user_id = account_id).pages():\n",
    "        follower_ids.extend(page)\n",
    "    names_ids = []\n",
    "    for name in follower_ids:\n",
    "        temp = api.get_user(user_id=name)\n",
    "        names_ids.append(temp.screen_name)\n",
    "    return names_ids\n"
   ]
  },
  {
   "cell_type": "code",
   "execution_count": 11,
   "id": "473dae40",
   "metadata": {},
   "outputs": [],
   "source": [
    "user_zill = getting_followings(\"onlyzill\")"
   ]
  },
  {
   "cell_type": "code",
   "execution_count": 12,
   "id": "20c6123b",
   "metadata": {},
   "outputs": [],
   "source": [
    "user_usman_chishty = getting_followings(\"usmanchishty3\")"
   ]
  },
  {
   "cell_type": "code",
   "execution_count": 13,
   "id": "ec36b975",
   "metadata": {},
   "outputs": [],
   "source": [
    "user_muhammad_islam = getting_followings(\"@masadulislam503\")"
   ]
  },
  {
   "cell_type": "code",
   "execution_count": 14,
   "id": "aa00c26b",
   "metadata": {},
   "outputs": [],
   "source": [
    "user_orhan_ghazi = getting_followings(\"ORHANGhazi10\")"
   ]
  },
  {
   "cell_type": "code",
   "execution_count": null,
   "id": "d16350c1",
   "metadata": {},
   "outputs": [],
   "source": [
    "user_dukhi_pardesi = getting_followings(\"ni37803123\")"
   ]
  },
  {
   "cell_type": "code",
   "execution_count": null,
   "id": "ae7a0ad6",
   "metadata": {},
   "outputs": [],
   "source": [
    "user_zill = getting_followings(\"onlyzill\")"
   ]
  },
  {
   "cell_type": "code",
   "execution_count": null,
   "id": "e08027cc",
   "metadata": {},
   "outputs": [],
   "source": [
    "user_zill = getting_followings(\"onlyzill\")"
   ]
  },
  {
   "cell_type": "code",
   "execution_count": null,
   "id": "8c9692d8",
   "metadata": {},
   "outputs": [],
   "source": [
    "user_zill = getting_followings(\"onlyzill\")"
   ]
  },
  {
   "cell_type": "code",
   "execution_count": null,
   "id": "c676ecc3",
   "metadata": {},
   "outputs": [],
   "source": [
    "user_zill = getting_followings(\"onlyzill\")"
   ]
  },
  {
   "cell_type": "code",
   "execution_count": null,
   "id": "52f705e2",
   "metadata": {},
   "outputs": [],
   "source": [
    "user_zill = getting_followings(\"onlyzill\")"
   ]
  }
 ],
 "metadata": {
  "kernelspec": {
   "display_name": "Python 3",
   "language": "python",
   "name": "python3"
  },
  "language_info": {
   "codemirror_mode": {
    "name": "ipython",
    "version": 3
   },
   "file_extension": ".py",
   "mimetype": "text/x-python",
   "name": "python",
   "nbconvert_exporter": "python",
   "pygments_lexer": "ipython3",
   "version": "3.8.8"
  }
 },
 "nbformat": 4,
 "nbformat_minor": 5
}
