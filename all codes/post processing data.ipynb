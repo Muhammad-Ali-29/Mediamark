{
 "cells": [
  {
   "cell_type": "code",
   "execution_count": 91,
   "id": "2acd65ad",
   "metadata": {},
   "outputs": [],
   "source": [
    "import pandas as pd\n",
    "from wordcloud import WordCloud\n",
    "from wordcloud import ImageColorGenerator\n",
    "from wordcloud import STOPWORDS\n",
    "import matplotlib.pyplot as plt\n",
    "from nltk.corpus import stopwords\n",
    "from bidi.algorithm import get_display\n",
    "import re\n",
    "from nltk.corpus import stopwords\n",
    "from nltk.tokenize import word_tokenize"
   ]
  },
  {
   "cell_type": "code",
   "execution_count": 133,
   "id": "bdfc95f7",
   "metadata": {},
   "outputs": [],
   "source": [
    "df = pd.read_csv(\"#باجوہ_استعفی_دو.csv\")"
   ]
  },
  {
   "cell_type": "code",
   "execution_count": 134,
   "id": "59f0961c",
   "metadata": {},
   "outputs": [],
   "source": [
    "file_name = \"#باجوہ_استعفی_دو\""
   ]
  },
  {
   "cell_type": "markdown",
   "id": "045454fc",
   "metadata": {},
   "source": [
    "## Removing Duplicates"
   ]
  },
  {
   "cell_type": "code",
   "execution_count": 135,
   "id": "56854514",
   "metadata": {},
   "outputs": [],
   "source": [
    "df_1 = df.drop_duplicates(subset = \"tweets\" , keep = \"first\")\n",
    "df_1.to_csv(f\"{file_name}_duplicates removed.csv\")"
   ]
  },
  {
   "cell_type": "markdown",
   "id": "62578217",
   "metadata": {},
   "source": [
    "## Word Cloud English"
   ]
  },
  {
   "cell_type": "code",
   "execution_count": 136,
   "id": "2909d746",
   "metadata": {},
   "outputs": [],
   "source": [
    "roman_stopwords = [\"ai\", \"rt\", \"ayi\", \"hy\", \"hai\", \"main\", \"ki\", \"tha\", \"koi\", \"ko\", \"sy\", \"woh\", \n",
    "        \"bhi\", \"aur\", \"wo\", \"yeh\", \"rha\", \"hota\", \"ho\", \"ga\", \"ka\", \"le\", \"lye\", \n",
    "        \"kr\", \"kar\", \"lye\", \"liye\", \"hotay\", \"waisay\", \"gya\", \"gaya\", \"kch\", \"ab\",\n",
    "        \"thy\", \"thay\", \"houn\", \"hain\", \"han\", \"to\", \"is\", \"hi\", \"jo\", \"kya\", \"thi\",\n",
    "        \"se\", \"pe\", \"phr\", \"wala\", \"waisay\", \"us\", \"na\", \"ny\", \"hun\", \"rha\", \"raha\",\n",
    "        \"ja\", \"rahay\", \"abi\", \"uski\", \"ne\", \"haan\", \"acha\", \"nai\", \"sent\", \"photo\", \n",
    "        \"you\", \"kafi\", \"gai\", \"rhy\", \"kuch\", \"jata\", \"aye\", \"ya\", \"dono\", \"hoa\", \n",
    "        \"aese\", \"de\", \"wohi\", \"jati\", \"jb\", \"krta\", \"lg\", \"rahi\", \"hui\", \"karna\", \n",
    "        \"krna\", \"gi\", \"hova\", \"yehi\", \"jana\", \"jye\", \"chal\", \"mil\", \"tu\", \"hum\", \"par\", \n",
    "        \"hay\", \"kis\", \"sb\", \"gy\", \"dain\", \"krny\", \"tou\"]"
   ]
  },
  {
   "cell_type": "code",
   "execution_count": 137,
   "id": "25dae891",
   "metadata": {},
   "outputs": [],
   "source": [
    "text = \" \".join(str(i) for i in df_1.tweets)"
   ]
  },
  {
   "cell_type": "code",
   "execution_count": 138,
   "id": "0af75b0a",
   "metadata": {},
   "outputs": [],
   "source": [
    "text = re.sub(r'http\\S+', '', text)"
   ]
  },
  {
   "cell_type": "code",
   "execution_count": 139,
   "id": "0de3c3eb",
   "metadata": {},
   "outputs": [],
   "source": [
    "text = text.replace(\"@\", \"\")\n",
    "#text"
   ]
  },
  {
   "cell_type": "code",
   "execution_count": 140,
   "id": "3d941d75",
   "metadata": {},
   "outputs": [],
   "source": [
    "text = re.sub(\"[^A-Za-z\\\\s]\" , \"\", text)"
   ]
  },
  {
   "cell_type": "code",
   "execution_count": 141,
   "id": "157a8aa7",
   "metadata": {},
   "outputs": [
    {
     "data": {
      "text/plain": [
       "2293"
      ]
     },
     "execution_count": 141,
     "metadata": {},
     "output_type": "execute_result"
    }
   ],
   "source": [
    "word_tokens = word_tokenize(text)\n",
    "len(word_tokens)"
   ]
  },
  {
   "cell_type": "code",
   "execution_count": 142,
   "id": "7a67f139",
   "metadata": {},
   "outputs": [],
   "source": [
    "stop_words = set(stopwords.words('english'))"
   ]
  },
  {
   "cell_type": "code",
   "execution_count": 143,
   "id": "f4c0516d",
   "metadata": {},
   "outputs": [],
   "source": [
    "text_ = [word for word in word_tokens if not word.lower() in roman_stopwords]"
   ]
  },
  {
   "cell_type": "code",
   "execution_count": 144,
   "id": "1f4bc647",
   "metadata": {},
   "outputs": [
    {
     "data": {
      "text/plain": [
       "2179"
      ]
     },
     "execution_count": 144,
     "metadata": {},
     "output_type": "execute_result"
    }
   ],
   "source": [
    "text__ = [word for word in text_ if not word.lower() in stop_words]\n",
    "len(text__)"
   ]
  },
  {
   "cell_type": "code",
   "execution_count": 145,
   "id": "02b45154",
   "metadata": {},
   "outputs": [],
   "source": [
    "text1 = str(text__)"
   ]
  },
  {
   "cell_type": "code",
   "execution_count": 146,
   "id": "c54b9c47",
   "metadata": {},
   "outputs": [],
   "source": [
    "wordcloud = WordCloud(max_words=20, background_color=\"black\").generate(text1)"
   ]
  },
  {
   "cell_type": "code",
   "execution_count": 147,
   "id": "e51523f3",
   "metadata": {},
   "outputs": [
    {
     "data": {
      "image/png": "[encoded data removed]",
      "text/plain": [
       "<Figure size 720x720 with 1 Axes>"
      ]
     },
     "metadata": {
      "needs_background": "light"
     },
     "output_type": "display_data"
    }
   ],
   "source": [
    "plt.figure( figsize=(10,10))\n",
    "plt.imshow(wordcloud, interpolation='bilinear')\n",
    "plt.axis(\"off\")\n",
    "plt.show()"
   ]
  },
  {
   "cell_type": "code",
   "execution_count": 148,
   "id": "92647753",
   "metadata": {},
   "outputs": [],
   "source": [
    "from collections import Counter\n",
    "c = Counter(text__)\n",
    "a = c.most_common(50)"
   ]
  },
  {
   "cell_type": "code",
   "execution_count": 149,
   "id": "78268de8",
   "metadata": {},
   "outputs": [
    {
     "data": {
      "text/html": [
       "<div>\n",
       "<style scoped>\n",
       "    .dataframe tbody tr th:only-of-type {\n",
       "        vertical-align: middle;\n",
       "    }\n",
       "\n",
       "    .dataframe tbody tr th {\n",
       "        vertical-align: top;\n",
       "    }\n",
       "\n",
       "    .dataframe thead th {\n",
       "        text-align: right;\n",
       "    }\n",
       "</style>\n",
       "<table border=\"1\" class=\"dataframe\">\n",
       "  <thead>\n",
       "    <tr style=\"text-align: right;\">\n",
       "      <th></th>\n",
       "      <th>new_col1</th>\n",
       "      <th>new_col2</th>\n",
       "    </tr>\n",
       "  </thead>\n",
       "  <tbody>\n",
       "    <tr>\n",
       "      <th>0</th>\n",
       "      <td>OfficialDGISPR</td>\n",
       "      <td>279</td>\n",
       "    </tr>\n",
       "    <tr>\n",
       "      <th>1</th>\n",
       "      <td>BajwaTraitor</td>\n",
       "      <td>268</td>\n",
       "    </tr>\n",
       "    <tr>\n",
       "      <th>2</th>\n",
       "      <td>SupremeCourtOfPakistan</td>\n",
       "      <td>227</td>\n",
       "    </tr>\n",
       "    <tr>\n",
       "      <th>3</th>\n",
       "      <td>FIAAgency</td>\n",
       "      <td>213</td>\n",
       "    </tr>\n",
       "    <tr>\n",
       "      <th>4</th>\n",
       "      <td>reportpemra</td>\n",
       "      <td>170</td>\n",
       "    </tr>\n",
       "    <tr>\n",
       "      <th>5</th>\n",
       "      <td>EnoughlsEnough</td>\n",
       "      <td>53</td>\n",
       "    </tr>\n",
       "    <tr>\n",
       "      <th>6</th>\n",
       "      <td>BajwaHasToGo</td>\n",
       "      <td>51</td>\n",
       "    </tr>\n",
       "    <tr>\n",
       "      <th>7</th>\n",
       "      <td>ptaofficialpk</td>\n",
       "      <td>30</td>\n",
       "    </tr>\n",
       "    <tr>\n",
       "      <th>8</th>\n",
       "      <td>ImranKhanPTI</td>\n",
       "      <td>22</td>\n",
       "    </tr>\n",
       "    <tr>\n",
       "      <th>9</th>\n",
       "      <td>ImranARaja</td>\n",
       "      <td>18</td>\n",
       "    </tr>\n",
       "    <tr>\n",
       "      <th>10</th>\n",
       "      <td>MaryamNSharif</td>\n",
       "      <td>16</td>\n",
       "    </tr>\n",
       "    <tr>\n",
       "      <th>11</th>\n",
       "      <td>CMShehbaz</td>\n",
       "      <td>14</td>\n",
       "    </tr>\n",
       "    <tr>\n",
       "      <th>12</th>\n",
       "      <td>ImranRiazKhan</td>\n",
       "      <td>13</td>\n",
       "    </tr>\n",
       "    <tr>\n",
       "      <th>13</th>\n",
       "      <td>chsandhilaa</td>\n",
       "      <td>13</td>\n",
       "    </tr>\n",
       "    <tr>\n",
       "      <th>14</th>\n",
       "      <td>NawazSharifMNS</td>\n",
       "      <td>13</td>\n",
       "    </tr>\n",
       "    <tr>\n",
       "      <th>15</th>\n",
       "      <td>Jooookeeeerrrr</td>\n",
       "      <td>12</td>\n",
       "    </tr>\n",
       "    <tr>\n",
       "      <th>16</th>\n",
       "      <td>SabirMehmood</td>\n",
       "      <td>11</td>\n",
       "    </tr>\n",
       "    <tr>\n",
       "      <th>17</th>\n",
       "      <td>PTIofficial</td>\n",
       "      <td>11</td>\n",
       "    </tr>\n",
       "    <tr>\n",
       "      <th>18</th>\n",
       "      <td>siasatpk</td>\n",
       "      <td>11</td>\n",
       "    </tr>\n",
       "    <tr>\n",
       "      <th>19</th>\n",
       "      <td>pmlnorg</td>\n",
       "      <td>11</td>\n",
       "    </tr>\n",
       "    <tr>\n",
       "      <th>20</th>\n",
       "      <td>SdqJaan</td>\n",
       "      <td>10</td>\n",
       "    </tr>\n",
       "    <tr>\n",
       "      <th>21</th>\n",
       "      <td>PTAofficialpk</td>\n",
       "      <td>10</td>\n",
       "    </tr>\n",
       "    <tr>\n",
       "      <th>22</th>\n",
       "      <td>TeamPakPower</td>\n",
       "      <td>10</td>\n",
       "    </tr>\n",
       "    <tr>\n",
       "      <th>23</th>\n",
       "      <td>TahirMughalPml</td>\n",
       "      <td>9</td>\n",
       "    </tr>\n",
       "    <tr>\n",
       "      <th>24</th>\n",
       "      <td>balochi</td>\n",
       "      <td>9</td>\n",
       "    </tr>\n",
       "    <tr>\n",
       "      <th>25</th>\n",
       "      <td>hinaparvezbutt</td>\n",
       "      <td>9</td>\n",
       "    </tr>\n",
       "    <tr>\n",
       "      <th>26</th>\n",
       "      <td>Agr</td>\n",
       "      <td>9</td>\n",
       "    </tr>\n",
       "    <tr>\n",
       "      <th>27</th>\n",
       "      <td>saary</td>\n",
       "      <td>9</td>\n",
       "    </tr>\n",
       "    <tr>\n",
       "      <th>28</th>\n",
       "      <td>Generals</td>\n",
       "      <td>9</td>\n",
       "    </tr>\n",
       "    <tr>\n",
       "      <th>29</th>\n",
       "      <td>muhibb</td>\n",
       "      <td>9</td>\n",
       "    </tr>\n",
       "    <tr>\n",
       "      <th>30</th>\n",
       "      <td>e</td>\n",
       "      <td>9</td>\n",
       "    </tr>\n",
       "    <tr>\n",
       "      <th>31</th>\n",
       "      <td>watan</td>\n",
       "      <td>9</td>\n",
       "    </tr>\n",
       "    <tr>\n",
       "      <th>32</th>\n",
       "      <td>Imran</td>\n",
       "      <td>9</td>\n",
       "    </tr>\n",
       "    <tr>\n",
       "      <th>33</th>\n",
       "      <td>Khan</td>\n",
       "      <td>9</td>\n",
       "    </tr>\n",
       "    <tr>\n",
       "      <th>34</th>\n",
       "      <td>ye</td>\n",
       "      <td>9</td>\n",
       "    </tr>\n",
       "    <tr>\n",
       "      <th>35</th>\n",
       "      <td>nahi</td>\n",
       "      <td>9</td>\n",
       "    </tr>\n",
       "    <tr>\n",
       "      <th>36</th>\n",
       "      <td>kehna</td>\n",
       "      <td>9</td>\n",
       "    </tr>\n",
       "    <tr>\n",
       "      <th>37</th>\n",
       "      <td>chahiye</td>\n",
       "      <td>9</td>\n",
       "    </tr>\n",
       "    <tr>\n",
       "      <th>38</th>\n",
       "      <td>BBhuttoZardari</td>\n",
       "      <td>8</td>\n",
       "    </tr>\n",
       "    <tr>\n",
       "      <th>39</th>\n",
       "      <td>tuo</td>\n",
       "      <td>8</td>\n",
       "    </tr>\n",
       "    <tr>\n",
       "      <th>40</th>\n",
       "      <td>HaqeeqatTV</td>\n",
       "      <td>7</td>\n",
       "    </tr>\n",
       "    <tr>\n",
       "      <th>41</th>\n",
       "      <td>ARYSabirShakir</td>\n",
       "      <td>7</td>\n",
       "    </tr>\n",
       "    <tr>\n",
       "      <th>42</th>\n",
       "      <td>sharjeelinam</td>\n",
       "      <td>7</td>\n",
       "    </tr>\n",
       "    <tr>\n",
       "      <th>43</th>\n",
       "      <td>Atifrauf</td>\n",
       "      <td>6</td>\n",
       "    </tr>\n",
       "    <tr>\n",
       "      <th>44</th>\n",
       "      <td>geonewsurdu</td>\n",
       "      <td>6</td>\n",
       "    </tr>\n",
       "    <tr>\n",
       "      <th>45</th>\n",
       "      <td>WQSKHCH</td>\n",
       "      <td>6</td>\n",
       "    </tr>\n",
       "    <tr>\n",
       "      <th>46</th>\n",
       "      <td>ShireenMazari</td>\n",
       "      <td>6</td>\n",
       "    </tr>\n",
       "    <tr>\n",
       "      <th>47</th>\n",
       "      <td>MoulanaOfficial</td>\n",
       "      <td>5</td>\n",
       "    </tr>\n",
       "    <tr>\n",
       "      <th>48</th>\n",
       "      <td>MansurQr</td>\n",
       "      <td>5</td>\n",
       "    </tr>\n",
       "    <tr>\n",
       "      <th>49</th>\n",
       "      <td>SHABAZGIL</td>\n",
       "      <td>5</td>\n",
       "    </tr>\n",
       "  </tbody>\n",
       "</table>\n",
       "</div>"
      ],
      "text/plain": [
       "                  new_col1  new_col2\n",
       "0           OfficialDGISPR       279\n",
       "1             BajwaTraitor       268\n",
       "2   SupremeCourtOfPakistan       227\n",
       "3                FIAAgency       213\n",
       "4              reportpemra       170\n",
       "5           EnoughlsEnough        53\n",
       "6             BajwaHasToGo        51\n",
       "7            ptaofficialpk        30\n",
       "8             ImranKhanPTI        22\n",
       "9               ImranARaja        18\n",
       "10           MaryamNSharif        16\n",
       "11               CMShehbaz        14\n",
       "12           ImranRiazKhan        13\n",
       "13             chsandhilaa        13\n",
       "14          NawazSharifMNS        13\n",
       "15          Jooookeeeerrrr        12\n",
       "16            SabirMehmood        11\n",
       "17             PTIofficial        11\n",
       "18                siasatpk        11\n",
       "19                 pmlnorg        11\n",
       "20                 SdqJaan        10\n",
       "21           PTAofficialpk        10\n",
       "22            TeamPakPower        10\n",
       "23          TahirMughalPml         9\n",
       "24                 balochi         9\n",
       "25          hinaparvezbutt         9\n",
       "26                     Agr         9\n",
       "27                   saary         9\n",
       "28                Generals         9\n",
       "29                  muhibb         9\n",
       "30                       e         9\n",
       "31                   watan         9\n",
       "32                   Imran         9\n",
       "33                    Khan         9\n",
       "34                      ye         9\n",
       "35                    nahi         9\n",
       "36                   kehna         9\n",
       "37                 chahiye         9\n",
       "38          BBhuttoZardari         8\n",
       "39                     tuo         8\n",
       "40              HaqeeqatTV         7\n",
       "41          ARYSabirShakir         7\n",
       "42            sharjeelinam         7\n",
       "43                Atifrauf         6\n",
       "44             geonewsurdu         6\n",
       "45                 WQSKHCH         6\n",
       "46           ShireenMazari         6\n",
       "47         MoulanaOfficial         5\n",
       "48                MansurQr         5\n",
       "49               SHABAZGIL         5"
      ]
     },
     "execution_count": 149,
     "metadata": {},
     "output_type": "execute_result"
    }
   ],
   "source": [
    "d = pd.DataFrame(a)\n",
    "d.columns = ['new_col1', 'new_col2']\n",
    "d"
   ]
  },
  {
   "cell_type": "code",
   "execution_count": 150,
   "id": "193cb9a1",
   "metadata": {},
   "outputs": [],
   "source": [
    "d.to_csv(f\"wordcloud_{file_name}-eng.csv\")"
   ]
  },
  {
   "cell_type": "markdown",
   "id": "80d63828",
   "metadata": {},
   "source": [
    "## Word Cloud Urdu"
   ]
  },
  {
   "cell_type": "code",
   "execution_count": 151,
   "id": "f8f301ec",
   "metadata": {},
   "outputs": [],
   "source": [
    "stopwords_urdu = [\"کی\",\"آئی\",\"آئے\",\"آج\",\"آخر\",\"آخرکبر\",\"آدهی\",\"آًب\",\"آٹھ\",\"آیب\",\"اة\",\"اخبزت\",\"اختتبم\",\"ادھر\",\"ارد\",\"اردگرد\",\"ارکبى\",\"اش\",\"اضتعوبل\",\"اضتعوبلات\",\"اضطرذ\",\"اضکب\",\"اضکی\",\"اضکے\",\"اطراف\",\"اغیب\",\"افراد\",\"الگ\",\"اور\",\"اوًچب\",\"اوًچبئی\",\"اوًچی\",\"اوًچے\",\"اى\",\"اً\",\"اًذر\",\"اًہیں\",\"اٹھبًب\",\"اپٌب\",\"اپٌے\",\"اچھب\",\"اچھی\",\"اچھے\",\"اکثر\",\"اکٹھب\",\"اکٹھی\",\"اکٹھے\",\"اکیلا\",\"اکیلی\",\"اکیلے\",\"اگرچہ\",\"اہن\",\"ایطے\",\"ایک\",\"ب\",\"ت\",\"تبزٍ\",\"تت\",\"تر\",\"ترتیت\",\"تریي\",\"تعذاد\",\"تن\",\"تو\",\"توبم\",\"توہی\",\"توہیں\",\"تٌہب\",\"تک\",\"تھب\",\"تھوڑا\",\"تھوڑی\",\"تھوڑے\",\"تھی\",\"تھے\",\"تیي\",\"ثب\",\"ثبئیں\",\"ثبترتیت\",\"ثبری\",\"ثبرے\",\"ثبعث\",\"ثبلا\",\"ثبلترتیت\",\"ثبہر\",\"ثدبئے\",\"ثرآں\",\"ثراں\",\"ثرش\",\"ثعذ\",\"ثغیر\",\"ثلٌذ\",\"ثلٌذوثبلا\",\"ثلکہ\",\"ثي\",\"ثٌب\",\"ثٌبرہب\",\"ثٌبرہی\",\"ثٌبرہے\",\"ثٌبًب\",\"ثٌذ\",\"ثٌذکرو\",\"ثٌذکرًب\",\"ثٌذی\",\"ثڑا\",\"ثڑوں\",\"ثڑی\",\"ثڑے\",\"ثھر\",\"ثھرا\",\"ثھراہوا\",\"ثھرپور\",\"ثھی\",\"ثہت\",\"ثہتر\",\"ثہتری\",\"ثہتریي\",\"ثیچ\",\"ج\",\"خب\",\"خبرہب\",\"خبرہی\",\"خبرہے\",\"خبهوظ\",\"خبًب\",\"خبًتب\",\"خبًتی\",\"خبًتے\",\"خبًٌب\",\"خت\",\"ختن\",\"خجکہ\",\"خص\",\"خططرذ\",\"خلذی\",\"خو\",\"خواى\",\"خوًہی\",\"خوکہ\",\"خٌبة\",\"خگہ\",\"خگہوں\",\"خگہیں\",\"خیطب\",\"خیطبکہ\",\"در\",\"درخبت\",\"درخہ\",\"درخے\",\"درزقیقت\",\"درضت\",\"دش\",\"دفعہ\",\"دلچطپ\",\"دلچطپی\",\"دلچطپیبں\",\"دو\",\"دور\",\"دوراى\",\"دوضرا\",\"دوضروں\",\"دوضری\",\"دوضرے\",\"دوًوں\",\"دکھبئیں\",\"دکھبتب\",\"دکھبتی\",\"دکھبتے\",\"دکھبو\",\"دکھبًب\",\"دکھبیب\",\"دی\",\"دیب\",\"دیتب\",\"دیتی\",\"دیتے\",\"دیر\",\"دیٌب\",\"دیکھو\",\"دیکھٌب\",\"دیکھی\",\"دیکھیں\",\"دے\",\"ر\",\"راضتوں\",\"راضتہ\",\"راضتے\",\"رریعہ\",\"رریعے\",\"رکي\",\"رکھ\",\"رکھب\",\"رکھتب\",\"رکھتبہوں\",\"رکھتی\",\"رکھتے\",\"رکھی\",\"رکھے\",\"رہب\",\"رہی\",\"رہے\",\"ز\",\"زبصل\",\"زبضر\",\"زبل\",\"زبلات\",\"زبلیہ\",\"زصوں\",\"زصہ\",\"زصے\",\"زقبئق\",\"زقیتیں\",\"زقیقت\",\"زکن\",\"زکویہ\",\"زیبدٍ\",\"صبف\",\"صسیر\",\"صفر\",\"صورت\",\"صورتسبل\",\"صورتوں\",\"صورتیں\",\"ض\",\"ضبت\",\"ضبتھ\",\"ضبدٍ\",\"ضبرا\",\"ضبرے\",\"ضبل\",\"ضبلوں\",\"ضت\",\"ضرور\",\"ضرورت\",\"ضروری\",\"ضلطلہ\",\"ضوچ\",\"ضوچب\",\"ضوچتب\",\"ضوچتی\",\"ضوچتے\",\"ضوچو\",\"ضوچٌب\",\"ضوچی\",\"ضوچیں\",\"ضکب\",\"ضکتب\",\"ضکتی\",\"ضکتے\",\"ضکٌب\",\"ضکی\",\"ضکے\",\"ضیذھب\",\"ضیذھی\",\"ضیذھے\",\"ضیکٌڈ\",\"ضے\",\"طرف\",\"طریق\",\"طریقوں\",\"طریقہ\",\"طریقے\",\"طور\",\"طورپر\",\"ظبہر\",\"ع\",\"عذد\",\"عظین\",\"علاقوں\",\"علاقہ\",\"علاقے\",\"علاوٍ\",\"عووهی\",\"غبیذ\",\"غخص\",\"غذ\",\"غروع\",\"غروعبت\",\"غے\",\"فرد\",\"فی\",\"ق\",\"قجل\",\"قجیلہ\",\"قطن\",\"لئے\",\"لا\",\"لازهی\",\"لو\",\"لوجب\",\"لوجی\",\"لوجے\",\"لوسبت\",\"لوسہ\",\"لوگ\",\"لوگوں\",\"لڑکپي\",\"لگتب\",\"لگتی\",\"لگتے\",\"لگٌب\",\"لگی\",\"لگیں\",\"لگے\",\"لی\",\"لیب\",\"لیٌب\",\"لیں\",\"لے\",\"ه\",\"هتعلق\",\"هختلف\",\"هسترم\",\"هسترهہ\",\"هسطوش\",\"هسیذ\",\"هطئلہ\",\"هطئلے\",\"هطبئل\",\"هطتعول\",\"هطلق\",\"هعلوم\",\"هػتول\",\"هلا\",\"هوکي\",\"هوکٌبت\",\"هوکٌہ\",\"هٌبضت\",\"هڑا\",\"هڑًب\",\"هڑے\",\"هکول\",\"هگر\",\"هہرثبى\",\"هیرا\",\"هیری\",\"هیرے\",\"هیں\",\"و\",\"وار\",\"والے\",\"وٍ\",\"ًئی\",\"ًئے\",\"ًب\",\"ًبپطٌذ\",\"ًبگسیر\",\"ًطجت\",\"ًقطہ\",\"ًو\",\"ًوخواى\",\"ًکبلٌب\",\"ًکتہ\",\"ًہ\",\"ًہیں\",\"ًیب\",\"ًے\",\"ٓ آش\",\"ٹھیک\",\"پبئے\",\"پبش\",\"پبًب\",\"پبًچ\",\"پر\",\"پراًب\",\"پطٌذ\",\"پل\",\"پورا\",\"پوچھب\",\"پوچھتب\",\"پوچھتی\",\"پوچھتے\",\"پوچھو\",\"پوچھوں\",\"پوچھٌب\",\"پوچھیں\",\"پچھلا\",\"پھر\",\"پہلا\",\"پہلی\",\"پہلےضی\",\"پہلےضے\",\"پہلےضےہی\",\"پیع\",\"چبر\",\"چبہب\",\"چبہٌب\",\"چبہے\",\"چلا\",\"چلو\",\"چلیں\",\"چلے\",\"چکب\",\"چکی\",\"چکیں\",\"چکے\",\"چھوٹب\",\"چھوٹوں\",\"چھوٹی\",\"چھوٹے\",\"چھہ\",\"چیسیں\",\"ڈھوًڈا\",\"ڈھوًڈلیب\",\"ڈھوًڈو\",\"ڈھوًڈًب\",\"ڈھوًڈی\",\"ڈھوًڈیں\",\"ک\",\"کئی\",\"کئے\",\"کب\",\"کبفی\",\"کبم\",\"کت\",\"کجھی\",\"کرا\",\"کرتب\",\"کرتبہوں\",\"کرتی\",\"کرتے\",\"کرتےہو\",\"کررہب\",\"کررہی\",\"کررہے\",\"کرو\",\"کرًب\",\"کریں\",\"کرے\",\"کطی\",\"کل\",\"کن\",\"کوئی\",\"کوتر\",\"کورا\",\"کوروں\",\"کورٍ\",\"کورے\",\"کوطي\",\"کوى\",\"کوًطب\",\"کوًطی\",\"کوًطے\",\"کھولا\",\"کھولو\",\"کھولٌب\",\"کھولی\",\"کھولیں\",\"کھولے\",\"کہ\",\"کہب\",\"کہتب\",\"کہتی\",\"کہتے\",\"کہو\",\"کہوں\",\"کہٌب\",\"کہی\",\"کہیں\",\"کہے\",\"کی\",\"کیب\",\"کیطب\",\"کیطرف\",\"کیطے\",\"کیلئے\",\"کیوًکہ\",\"کیوں\",\"کیے\",\"کے\",\"کےثعذ\",\"کےرریعے\",\"گئی\",\"گئے\",\"گب\",\"گرد\",\"گروٍ\",\"گروپ\",\"گروہوں\",\"گٌتی\",\"گی\",\"گیب\",\"گے\",\"ہر\",\"ہن\",\"ہو\",\"ہوئی\",\"ہوئے\",\"ہوا\",\"ہوبرا\",\"ہوبری\",\"ہوبرے\",\"ہوتب\",\"ہوتی\",\"ہوتے\",\"ہورہب\",\"ہورہی\",\"ہورہے\",\"ہوضکتب\",\"ہوضکتی\",\"ہوضکتے\",\"ہوًب\",\"ہوًی\",\"ہوًے\",\"ہوچکب\",\"ہوچکی\",\"ہوچکے\",\"ہوگئی\",\"ہوگئے\",\"ہوگیب\",\"ہوں\",\"ہی\",\"ہیں\",\"ہے\",\"میں\",\"ی\",\"یقیٌی\",\"یہ\",\"یہبں\"]\n"
   ]
  },
  {
   "cell_type": "code",
   "execution_count": 152,
   "id": "a29d3fac",
   "metadata": {},
   "outputs": [],
   "source": [
    "try:\n",
    "    tex = \"\".join(str(i) for i in df_1.tweets)\n",
    "except:\n",
    "    KeyError\n",
    "    print(KeyError)"
   ]
  },
  {
   "cell_type": "code",
   "execution_count": 153,
   "id": "78605621",
   "metadata": {},
   "outputs": [],
   "source": [
    "emoji_pattern = re.compile(\"[\"\n",
    "        u\"\\U0001F600-\\U0001F64F\"  # emoticons\n",
    "        u\"\\U0001F300-\\U0001F5FF\"  # symbols & pictographs\n",
    "        u\"\\U0001F680-\\U0001F6FF\"  # transport & map symbols\n",
    "        u\"\\U0001F1E0-\\U0001F1FF\"  # flags (iOS)\n",
    "        u\"\\U00002500-\\U00002BEF\"  # chinese char\n",
    "        u\"\\U00002702-\\U000027B0\"\n",
    "        u\"\\U00002702-\\U000027B0\"\n",
    "        u\"\\U000024C2-\\U0001F251\"\n",
    "        u\"\\U0001f926-\\U0001f937\"\n",
    "        u\"\\U00010000-\\U0010ffff\"\n",
    "        u\"\\u2640-\\u2642\" \n",
    "        u\"\\u2600-\\u2B55\"\n",
    "        u\"\\u200d\"\n",
    "        u\"\\u23cf\"\n",
    "        u\"\\u23e9\"\n",
    "        u\"\\u231a\"\n",
    "        u\"\\ufe0f\"  # dingbats\n",
    "        u\"\\u3030\"\n",
    "                      \"]+\", re.UNICODE)"
   ]
  },
  {
   "cell_type": "code",
   "execution_count": 154,
   "id": "d66bb161",
   "metadata": {},
   "outputs": [],
   "source": [
    "tex = emoji_pattern.sub(r'', tex) #rem emoji"
   ]
  },
  {
   "cell_type": "code",
   "execution_count": 155,
   "id": "b71a25f5",
   "metadata": {},
   "outputs": [],
   "source": [
    "tex = re.sub(r'[^\\w\\s]', '', tex) #rem punc"
   ]
  },
  {
   "cell_type": "code",
   "execution_count": 156,
   "id": "c9f38de5",
   "metadata": {},
   "outputs": [],
   "source": [
    "tex = re.sub(r'http\\S+', '', tex) #rem https"
   ]
  },
  {
   "cell_type": "code",
   "execution_count": 157,
   "id": "a35ca028",
   "metadata": {},
   "outputs": [],
   "source": [
    "tex = tex.replace(\"@\", \"\")\n",
    "#tex"
   ]
  },
  {
   "cell_type": "code",
   "execution_count": 158,
   "id": "6adb37b7",
   "metadata": {},
   "outputs": [
    {
     "data": {
      "text/plain": [
       "3734"
      ]
     },
     "execution_count": 158,
     "metadata": {},
     "output_type": "execute_result"
    }
   ],
   "source": [
    "tex_t = word_tokenize(tex)\n",
    "len(tex_t)"
   ]
  },
  {
   "cell_type": "code",
   "execution_count": 159,
   "id": "10146b24",
   "metadata": {},
   "outputs": [
    {
     "data": {
      "text/plain": [
       "3424"
      ]
     },
     "execution_count": 159,
     "metadata": {},
     "output_type": "execute_result"
    }
   ],
   "source": [
    "tex_ = [word for word in tex_t if not word in stopwords_urdu]\n",
    "len(tex_)"
   ]
  },
  {
   "cell_type": "code",
   "execution_count": 160,
   "id": "36c05ed2",
   "metadata": {},
   "outputs": [],
   "source": [
    "# removing english\n",
    "\n",
    "cleaned_text = []\n",
    "for string in tex_:\n",
    "    if not re.search(r'[a-zA-Z]', string):\n",
    "        cleaned_text.append(string)\n",
    "#cleaned_text"
   ]
  },
  {
   "cell_type": "code",
   "execution_count": 161,
   "id": "8a5113b1",
   "metadata": {},
   "outputs": [],
   "source": [
    "counter = Counter(cleaned_text)\n",
    "most_common = counter.most_common(50)\n",
    "#most_common"
   ]
  },
  {
   "cell_type": "code",
   "execution_count": 162,
   "id": "53c6d06c",
   "metadata": {},
   "outputs": [],
   "source": [
    "dframe = pd.DataFrame(most_common)\n",
    "dframe.columns = ['new_col1', 'new_col2']\n",
    "#dframe"
   ]
  },
  {
   "cell_type": "code",
   "execution_count": 163,
   "id": "e5ad94b2",
   "metadata": {},
   "outputs": [],
   "source": [
    "dframe.to_csv(f\"wordcloud_{file_name}_urdu.csv\")"
   ]
  },
  {
   "cell_type": "code",
   "execution_count": null,
   "id": "4f99d77e",
   "metadata": {},
   "outputs": [],
   "source": []
  }
 ],
 "metadata": {
  "kernelspec": {
   "display_name": "Python 3",
   "language": "python",
   "name": "python3"
  },
  "language_info": {
   "codemirror_mode": {
    "name": "ipython",
    "version": 3
   },
   "file_extension": ".py",
   "mimetype": "text/x-python",
   "name": "python",
   "nbconvert_exporter": "python",
   "pygments_lexer": "ipython3",
   "version": "3.8.8"
  }
 },
 "nbformat": 4,
 "nbformat_minor": 5
}
